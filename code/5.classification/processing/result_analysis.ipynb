{
 "cells": [
  {
   "cell_type": "code",
   "execution_count": 3,
   "metadata": {},
   "outputs": [],
   "source": [
    "import json\n",
    "import numpy as np\n",
    "from pathlib import Path\n",
    "from collections import Counter\n",
    "\n",
    "def _lookup_qid2alias(qid):\n",
    "    if len(qid) < 3:\n",
    "        table_name = f\"Q{int(qid[1]):02d}.tsv\"\n",
    "    else:\n",
    "        table_name = f\"Q{qid[1:3]}.tsv\"\n",
    "    record = None\n",
    "    with open (dir_entity_aliases / table_name, 'r') as f:\n",
    "        for line in f:\n",
    "            if not line.startswith(qid):\n",
    "                continue\n",
    "            record = line.strip().split('\\t')\n",
    "            if record[0] == qid:\n",
    "                return record[1].split('|sep|')\n",
    "    return None\n",
    "\n",
    "def _load_property2aliases(path):\n",
    "    # from the property_aliases table\n",
    "    pid2aliases = {}\n",
    "    with open(path, 'r') as f:\n",
    "        header = f.readline()\n",
    "        assert header.strip().split('\\t') == [\"alias\", \"pid\"]\n",
    "        while True:\n",
    "            line = f.readline()\n",
    "            if len(line) == 0:\n",
    "                break\n",
    "            alias, pid = line.strip().split('\\t')\n",
    "            if pid not in pid2aliases:\n",
    "                pid2aliases[pid] = []\n",
    "            pid2aliases[pid].append(alias)\n",
    "    return pid2aliases"
   ]
  },
  {
   "cell_type": "code",
   "execution_count": 7,
   "metadata": {},
   "outputs": [
    {
     "ename": "IndexError",
     "evalue": "list index out of range",
     "output_type": "error",
     "traceback": [
      "\u001b[0;31m---------------------------------------------------------------------------\u001b[0m",
      "\u001b[0;31mIndexError\u001b[0m                                Traceback (most recent call last)",
      "\u001b[0;32m/tmp/ipykernel_3335334/2989699834.py\u001b[0m in \u001b[0;36m<module>\u001b[0;34m\u001b[0m\n\u001b[1;32m     20\u001b[0m             \u001b[0m_\u001b[0m\u001b[0;34m,\u001b[0m \u001b[0mexample_id\u001b[0m\u001b[0;34m,\u001b[0m \u001b[0msent1_id\u001b[0m\u001b[0;34m,\u001b[0m \u001b[0msent2_id\u001b[0m \u001b[0;34m=\u001b[0m \u001b[0mobj\u001b[0m\u001b[0;34m[\u001b[0m\u001b[0;34m\"id\"\u001b[0m\u001b[0;34m]\u001b[0m\u001b[0;34m.\u001b[0m\u001b[0msplit\u001b[0m\u001b[0;34m(\u001b[0m\u001b[0;34m'_'\u001b[0m\u001b[0;34m)\u001b[0m\u001b[0;34m\u001b[0m\u001b[0;34m\u001b[0m\u001b[0m\n\u001b[1;32m     21\u001b[0m             \u001b[0mexample_id\u001b[0m \u001b[0;34m=\u001b[0m \u001b[0mint\u001b[0m\u001b[0;34m(\u001b[0m\u001b[0mexample_id\u001b[0m\u001b[0;34m)\u001b[0m\u001b[0;34m\u001b[0m\u001b[0;34m\u001b[0m\u001b[0m\n\u001b[0;32m---> 22\u001b[0;31m             \u001b[0mexample\u001b[0m \u001b[0;34m=\u001b[0m \u001b[0mlabeled_data\u001b[0m\u001b[0;34m[\u001b[0m\u001b[0mexample_id\u001b[0m\u001b[0;34m]\u001b[0m\u001b[0;34m\u001b[0m\u001b[0;34m\u001b[0m\u001b[0m\n\u001b[0m\u001b[1;32m     23\u001b[0m             \u001b[0mentity_pair\u001b[0m \u001b[0;34m=\u001b[0m \u001b[0mexample\u001b[0m\u001b[0;34m[\u001b[0m\u001b[0;34m\"entity_pair\"\u001b[0m\u001b[0;34m]\u001b[0m\u001b[0;34m\u001b[0m\u001b[0;34m\u001b[0m\u001b[0m\n\u001b[1;32m     24\u001b[0m             \u001b[0mprint\u001b[0m\u001b[0;34m(\u001b[0m\u001b[0mentity_pair\u001b[0m\u001b[0;34m)\u001b[0m\u001b[0;34m\u001b[0m\u001b[0;34m\u001b[0m\u001b[0m\n",
      "\u001b[0;31mIndexError\u001b[0m: list index out of range"
     ]
    }
   ],
   "source": [
    "all_data_dir = Path(\"/afs/crc.nd.edu/group/dmsquare/vol2/myu2/ComparisonSentences/data/sentence_scoring/v2\")\n",
    "\n",
    "dir_data = Path(\"/afs/crc.nd.edu/group/dmsquare/vol2/myu2/ComparisonSentences/data/sentence_scoring/v2/Q105543609\")\n",
    "# dir_output = dir_data / f\"pairwise_cls/cross_{seed}\"\n",
    "# dir_output.mkdir(exist_ok=True, parents=True)\n",
    "path_texts = dir_data / \"texts.json\"\n",
    "path_labels = dir_data / \"labels.json\"\n",
    "\n",
    "\n",
    "\n",
    "labeled_data = []\n",
    "with open(path_labels) as f:\n",
    "    for line in f:\n",
    "        labeled_data.append(json.loads(line))\n",
    "\n",
    "with open (dir_data / \"statement_pairs.tsv\") as f:\n",
    "    for line in f:\n",
    "        s1_id, s2_id, v = line.strip().split('\\t')\n",
    "\n",
    "with open (\"/afs/crc.nd.edu/group/dmsquare/vol2/myu2/ComparisonSentences/data/sentence_scoring/v2/combined/cross_0/pairwise_test.json\") as f:\n",
    "    for line in f:\n",
    "        obj = json.loads(line)\n",
    "        if obj[\"id\"] == \"pos_5412_35_0\":\n",
    "            _, example_id, sent1_id, sent2_id = obj[\"id\"].split('_')\n",
    "            example_id = int(example_id)\n",
    "            example = labeled_data[example_id]\n",
    "            entity_pair = example[\"entity_pair\"]\n",
    "            print(entity_pair)\n",
    "            with open (\"/afs/crc.nd.edu/group/dmsquare/vol2/myu2/ComparisonSentences/data/statement_scoring/news/Q11424_matched.json\") as f:\n",
    "                for line in f:\n",
    "                    original = json.loads(line)\n",
    "                    _ep = original[\"entity_pair\"]\n",
    "                    if _ep == entity_pair or (_ep[0] == entity_pair[1] and _ep[1] == entity_pair[0]):\n",
    "                        print(original)"
   ]
  },
  {
   "cell_type": "code",
   "execution_count": null,
   "metadata": {},
   "outputs": [],
   "source": []
  }
 ],
 "metadata": {
  "kernelspec": {
   "display_name": "Python 3.7.11 ('bert')",
   "language": "python",
   "name": "python3"
  },
  "language_info": {
   "codemirror_mode": {
    "name": "ipython",
    "version": 3
   },
   "file_extension": ".py",
   "mimetype": "text/x-python",
   "name": "python",
   "nbconvert_exporter": "python",
   "pygments_lexer": "ipython3",
   "version": "3.7.11"
  },
  "orig_nbformat": 4,
  "vscode": {
   "interpreter": {
    "hash": "038ac43ff01c31cd641835814f979bd9daf9dcda5104326cfb2cc592d72d42d9"
   }
  }
 },
 "nbformat": 4,
 "nbformat_minor": 2
}
