{
 "cells": [
  {
   "cell_type": "code",
   "execution_count": 1,
   "metadata": {},
   "outputs": [],
   "source": [
    "import json\n",
    "import numpy as np\n",
    "with open (\"/afs/crc.nd.edu/group/dmsquare/vol2/myu2/ComparisonSentences/data/sentence_scoring/v2/Q5/texts.json\") as f:\n",
    "    qid2text = {}\n",
    "    for line in f:\n",
    "        obj = json.loads(line)\n",
    "        qid2text[obj[\"qid\"]] = obj[\"sentences\"]\n"
   ]
  },
  {
   "cell_type": "code",
   "execution_count": 2,
   "metadata": {},
   "outputs": [
    {
     "name": "stdout",
     "output_type": "stream",
     "text": [
      "# articles 6439\n"
     ]
    },
    {
     "data": {
      "text/plain": [
       "DescribeResult(nobs=6439, minmax=(1, 1120), mean=114.45861158564995, variance=18685.293991921033, skewness=2.3452179794159713, kurtosis=6.73862349604012)"
      ]
     },
     "execution_count": 2,
     "metadata": {},
     "output_type": "execute_result"
    }
   ],
   "source": [
    "# text\n",
    "import scipy.stats as stats\n",
    "print(\"# articles\", len(qid2text))\n",
    "num_sentences = []\n",
    "for qid, texts in qid2text.items():\n",
    "    num_sentences.append(len(texts))\n",
    "\n",
    "num_sentences = np.array(num_sentences)\n",
    "stats.describe(num_sentences)"
   ]
  },
  {
   "cell_type": "code",
   "execution_count": 3,
   "metadata": {},
   "outputs": [
    {
     "ename": "KeyError",
     "evalue": "'Q23'",
     "output_type": "error",
     "traceback": [
      "\u001b[0;31m---------------------------------------------------------------------------\u001b[0m",
      "\u001b[0;31mKeyError\u001b[0m                                  Traceback (most recent call last)",
      "\u001b[0;32m/tmp/ipykernel_2941708/2083809146.py\u001b[0m in \u001b[0;36m<module>\u001b[0;34m\u001b[0m\n\u001b[1;32m     21\u001b[0m         \u001b[0;32mfor\u001b[0m \u001b[0mexample\u001b[0m \u001b[0;32min\u001b[0m \u001b[0mobj\u001b[0m\u001b[0;34m[\u001b[0m\u001b[0;34m\"positive_labels\"\u001b[0m\u001b[0;34m]\u001b[0m\u001b[0;34m:\u001b[0m\u001b[0;34m\u001b[0m\u001b[0;34m\u001b[0m\u001b[0m\n\u001b[1;32m     22\u001b[0m \u001b[0;34m\u001b[0m\u001b[0m\n\u001b[0;32m---> 23\u001b[0;31m             \u001b[0msent_e1\u001b[0m \u001b[0;34m=\u001b[0m \u001b[0mqid2text\u001b[0m\u001b[0;34m[\u001b[0m\u001b[0me1\u001b[0m\u001b[0;34m]\u001b[0m\u001b[0;34m[\u001b[0m\u001b[0mexample\u001b[0m\u001b[0;34m[\u001b[0m\u001b[0;36m0\u001b[0m\u001b[0;34m]\u001b[0m\u001b[0;34m]\u001b[0m\u001b[0;34m\u001b[0m\u001b[0;34m\u001b[0m\u001b[0m\n\u001b[0m\u001b[1;32m     24\u001b[0m             \u001b[0msent_e2\u001b[0m \u001b[0;34m=\u001b[0m \u001b[0mqid2text\u001b[0m\u001b[0;34m[\u001b[0m\u001b[0me2\u001b[0m\u001b[0;34m]\u001b[0m\u001b[0;34m[\u001b[0m\u001b[0mexample\u001b[0m\u001b[0;34m[\u001b[0m\u001b[0;36m1\u001b[0m\u001b[0;34m]\u001b[0m\u001b[0;34m]\u001b[0m\u001b[0;34m\u001b[0m\u001b[0;34m\u001b[0m\u001b[0m\n\u001b[1;32m     25\u001b[0m \u001b[0;34m\u001b[0m\u001b[0m\n",
      "\u001b[0;31mKeyError\u001b[0m: 'Q23'"
     ]
    }
   ],
   "source": [
    "idx2statement = {}\n",
    "with open (\"/afs/crc.nd.edu/group/dmsquare/vol2/myu2/ComparisonSentences/data/sentence_scoring/v2/Q5/statements.tsv\") as f:\n",
    "    for line in f:\n",
    "        idx, s = line.strip().split('\\t')\n",
    "        idx2statement[int(idx)] = eval(s)\n",
    "\n",
    "from collections import Counter\n",
    "statement2num_sentences = []\n",
    "sentence2num_statements = []\n",
    "num_positive_per_example = []\n",
    "cnt = 1\n",
    "with open(\"/afs/crc.nd.edu/group/dmsquare/vol2/myu2/ComparisonSentences/data/sentence_scoring/v1/Q5/labels.json\") as f:\n",
    "    for line in f:\n",
    "        if cnt < 0:\n",
    "            break\n",
    "        # cnt -= 1\n",
    "        obj = json.loads(line)\n",
    "        e1, e2 = obj[\"entity_pair\"]\n",
    "        _num_sent = {}\n",
    "        num_positive_per_example.append(len(obj[\"positive_labels\"]))\n",
    "        for example in obj[\"positive_labels\"]:\n",
    "            \n",
    "            sent_e1 = qid2text[e1][example[0]]\n",
    "            sent_e2 = qid2text[e2][example[1]]\n",
    "            \n",
    "            # print(\"---\")\n",
    "            # print(\"sentence_e1:\", sent_e1)\n",
    "            # print(\"sentence_e2:\", sent_e1)\n",
    "            # _num_statement[f\"{e1}_{example[0]}\"].add\n",
    "            # _num_statement[f\"{e2}_{example[1]}\"] += 1\n",
    "            for statement_pair in example[2]:\n",
    "            \n",
    "                s1_idx = statement_pair[0]\n",
    "                s2_idx = statement_pair[1] \n",
    "              \n",
    "                # print(idx2statement[s1_idx], idx2statement[s1_idx])\n",
    "                score = statement_pair[2]\n",
    "                if s1_idx not in _num_sent:\n",
    "                    _num_sent[s1_idx] = set()\n",
    "                if s2_idx not in _num_sent:\n",
    "                    _num_sent[s2_idx] = set()\n",
    "                \n",
    "                _num_sent[s1_idx].add(f\"{e1}_{example[0]}\")\n",
    "                _num_sent[s2_idx].add(f\"{e2}_{example[0]}\")\n",
    "        for k,v in _num_sent.items():\n",
    "            statement2num_sentences.append(len(v))\n",
    "statement2num_sentences = np.array(statement2num_sentences)\n",
    "\n",
    "print(\"statement2num_sentences:\", stats.describe(statement2num_sentences))\n",
    "\n",
    "print(\"count positive sentence pair per example\", stats.describe(num_positive_per_example))\n"
   ]
  },
  {
   "cell_type": "code",
   "execution_count": 8,
   "metadata": {},
   "outputs": [
    {
     "data": {
      "image/png": "[encoded data removed]",
      "text/plain": [
       "<Figure size 432x288 with 1 Axes>"
      ]
     },
     "metadata": {
      "needs_background": "light"
     },
     "output_type": "display_data"
    }
   ],
   "source": [
    "import matplotlib.pyplot as plt\n",
    "plt.hist(num_positive_per_example, bins=100)\n",
    "plt.show()"
   ]
  },
  {
   "cell_type": "code",
   "execution_count": 17,
   "metadata": {},
   "outputs": [
    {
     "data": {
      "image/png": "[encoded data removed]",
      "text/plain": [
       "<Figure size 432x288 with 1 Axes>"
      ]
     },
     "metadata": {
      "needs_background": "light"
     },
     "output_type": "display_data"
    }
   ],
   "source": [
    "import matplotlib.pyplot as plt\n",
    "plt.hist(statement2num_sentences, bins=100)\n",
    "# plt.show()"
   ]
  },
  {
   "cell_type": "code",
   "execution_count": 12,
   "metadata": {},
   "outputs": [],
   "source": [
    "import matplotlib.pyplot"
   ]
  },
  {
   "cell_type": "markdown",
   "metadata": {},
   "source": []
  },
  {
   "cell_type": "code",
   "execution_count": 4,
   "metadata": {},
   "outputs": [
    {
     "name": "stdout",
     "output_type": "stream",
     "text": [
      "657,Wakil Ahmad Muttawakil Abdul Ghaffar, given name, Wakil Ahmed Muttawakil, Wakil Ahmad Muttawakil Abdul Ghaffar, Abdul, Mohammed\n",
      "656,Mubarak, given name, Hosni Mubarak, Mubarak, Mohammed, Hamid\n",
      "656,Wakil Ahmad Muttawakil Abdul Ghaffar, given name, Wakil Ahmed Muttawakil, Wakil Ahmad Muttawakil Abdul Ghaffar, Abdul, Hamid\n",
      "475,William Jefferson Clinton, spouse, Bill Clinton, William Jefferson Clinton, Hillary Clinton, Bill Clinton\n",
      "421,Madonna Louise Ciccone, spouse, Madonna, Madonna Louise Ciccone, Guy Ritchie, Madonna\n",
      "420,Kofi Atta Annan, given name, Kofi Annan, Kofi Atta Annan, Kofi, Hamid\n",
      "411,Binyamin Netanyahu, member of political party, Benjamin Netanyahu, Binyamin Netanyahu, Likud, Likud\n",
      "392,Kofi Atta Annan, given name, Kofi Annan, Kofi Atta Annan, Kofi, Mohammed\n",
      "392,Kofi Atta Annan, given name, Kofi Annan, Kofi Atta Annan, Kofi, Abdul\n",
      "381,Laurent Koudou Gbagbo, given name, Laurent Gbagbo, Laurent Koudou Gbagbo, Laurent, Mohammed\n",
      "381,Laurent Koudou Gbagbo, given name, Laurent Gbagbo, Laurent Koudou Gbagbo, Laurent, Hamid\n",
      "381,Laurent Koudou Gbagbo, given name, Laurent Gbagbo, Laurent Koudou Gbagbo, Laurent, Abdul\n",
      "374,Ali, relative, Alī ibn Abī Ṭālib, Ali, Muhammad, Alī ibn Abī Ṭālib\n",
      "365,George Walker Bush, sibling, George W. Bush, George Walker Bush, Jeb Bush, George W. Bush\n",
      "348,Kofi Atta Annan, given name, Kofi Annan, Kofi Atta Annan, Kofi, Anthony\n",
      "344,Kofi Atta Annan, given name, Kofi Annan, Kofi Atta Annan, Kofi, Abdullah\n",
      "332,Laurent Koudou Gbagbo, given name, Laurent Gbagbo, Laurent Koudou Gbagbo, Laurent, Mohammed\n",
      "320,Karzai, given name, Hamid Karzai, Karzai, Hamid, Abdullah\n",
      "318,Rod R. Blagojevich, member of political party, Rod Blagojevich, Rod R. Blagojevich, Democratic Party, Fatah\n"
     ]
    },
    {
     "ename": "IndexError",
     "evalue": "list index out of range",
     "output_type": "error",
     "traceback": [
      "\u001b[0;31m---------------------------------------------------------------------------\u001b[0m",
      "\u001b[0;31mIndexError\u001b[0m                                Traceback (most recent call last)",
      "\u001b[0;32m/tmp/ipykernel_2465628/2794477897.py\u001b[0m in \u001b[0;36m<module>\u001b[0;34m\u001b[0m\n\u001b[1;32m     62\u001b[0m \u001b[0;34m\u001b[0m\u001b[0m\n\u001b[1;32m     63\u001b[0m \u001b[0;32mfor\u001b[0m \u001b[0mk\u001b[0m\u001b[0;34m,\u001b[0m\u001b[0mv\u001b[0m \u001b[0;32min\u001b[0m \u001b[0mlist\u001b[0m\u001b[0;34m(\u001b[0m\u001b[0mstatmentpair2freq\u001b[0m\u001b[0;34m.\u001b[0m\u001b[0mitems\u001b[0m\u001b[0;34m(\u001b[0m\u001b[0;34m)\u001b[0m\u001b[0;34m)\u001b[0m\u001b[0;34m[\u001b[0m\u001b[0;34m:\u001b[0m\u001b[0;36m50\u001b[0m\u001b[0;34m]\u001b[0m\u001b[0;34m:\u001b[0m\u001b[0;34m\u001b[0m\u001b[0;34m\u001b[0m\u001b[0m\n\u001b[0;32m---> 64\u001b[0;31m     \u001b[0mprint\u001b[0m\u001b[0;34m(\u001b[0m\u001b[0;34mf\"{v},{_lookup_qid2alias(k[0])[1]}, {pid2alias[k[2]][0]}, {_lookup_qid2alias(k[0])[0]}, {_lookup_qid2alias(k[0])[1]}, {_lookup_qid2alias(k[3])[0]}, {_lookup_qid2alias(k[4])[0]}\"\u001b[0m\u001b[0;34m)\u001b[0m\u001b[0;34m\u001b[0m\u001b[0;34m\u001b[0m\u001b[0m\n\u001b[0m\u001b[1;32m     65\u001b[0m \u001b[0;34m\u001b[0m\u001b[0m\n\u001b[1;32m     66\u001b[0m \u001b[0mprint\u001b[0m\u001b[0;34m(\u001b[0m\u001b[0;34m\"===\"\u001b[0m\u001b[0;34m)\u001b[0m\u001b[0;34m\u001b[0m\u001b[0;34m\u001b[0m\u001b[0m\n",
      "\u001b[0;31mIndexError\u001b[0m: list index out of range"
     ]
    }
   ],
   "source": [
    "import json\n",
    "from pathlib import Path\n",
    "from collections import Counter\n",
    "\n",
    "dir_entity_aliases = Path(\"/afs/crc.nd.edu/group/dmsquare/vol2/myu2/ComparisonSentences/data/wikidata_processed/aliases_sorted\")\n",
    "\n",
    "def _lookup_qid2alias(qid):\n",
    "    if len(qid) < 3:\n",
    "        table_name = f\"Q{int(qid[1]):02d}.tsv\"\n",
    "    else:\n",
    "        table_name = f\"Q{qid[1:3]}.tsv\"\n",
    "    record = None\n",
    "    with open (dir_entity_aliases / table_name, 'r') as f:\n",
    "        for line in f:\n",
    "            if not line.startswith(qid):\n",
    "                continue\n",
    "            record = line.strip().split('\\t')\n",
    "            if record[0] == qid:\n",
    "                return record[1].split('|sep|')\n",
    "    return None\n",
    "\n",
    "def _load_property2aliases(path):\n",
    "    # from the property_aliases table\n",
    "    pid2aliases = {}\n",
    "    with open(path, 'r') as f:\n",
    "        header = f.readline()\n",
    "        assert header.strip().split('\\t') == [\"alias\", \"pid\"]\n",
    "        while True:\n",
    "            line = f.readline()\n",
    "            if len(line) == 0:\n",
    "                break\n",
    "            alias, pid = line.strip().split('\\t')\n",
    "            if pid not in pid2aliases:\n",
    "                pid2aliases[pid] = []\n",
    "            pid2aliases[pid].append(alias)\n",
    "    return pid2aliases\n",
    "\n",
    "\n",
    "path_prop_alias = Path(\"/afs/crc.nd.edu/group/dmsquare/vol2/myu2/ComparisonSentences/data/wikidata_processed/property_aliases/0.tsv\")\n",
    "pid2alias = _load_property2aliases(path_prop_alias)\n",
    "idx2statement = {}\n",
    "with open (\"/afs/crc.nd.edu/group/dmsquare/vol2/myu2/ComparisonSentences/data/sentence_scoring/v1/Q5/statements.tsv\") as f:\n",
    "    for line in f:\n",
    "        idx, s = line.strip().split('\\t')\n",
    "        idx2statement[idx] = eval(s)\n",
    "prop2freq = Counter()\n",
    "statmentpair2freq = {}\n",
    "prop2statement2freq = {}\n",
    "with open (\"/afs/crc.nd.edu/group/dmsquare/vol2/myu2/ComparisonSentences/data/sentence_scoring/v1/Q5/statement_pairs.tsv\") as f:\n",
    "    for line in f:\n",
    "        s1, s2, freq = line.strip().split('\\t')\n",
    "        s1 = idx2statement[s1]\n",
    "        s2 = idx2statement[s2]\n",
    "        assert s1[1] == s2[1]\n",
    "        prop2freq[s1[1]] += int(freq)\n",
    "\n",
    "        pair = (s1[0], s2[0], s1[1], s1[2], s2[2])\n",
    "        statmentpair2freq[pair] = int(freq)\n",
    "        if s1[1] not in prop2statement2freq:\n",
    "            prop2statement2freq[s1[1]] = {}\n",
    "        prop2statement2freq[s1[1]][pair] = freq\n",
    "\n",
    "for k,v in list(statmentpair2freq.items())[:50]:\n",
    "    print(f\"{v}, ({_lookup_qid2alias(k[0])[1]}, {pid2alias[k[2]][0]}, {_lookup_qid2alias(k[0])[0]}, {_lookup_qid2alias(k[0])[1]}, {_lookup_qid2alias(k[3])[0]}, {_lookup_qid2alias(k[4])[0]}}\")\n",
    "\n",
    "print(\"===\")\n",
    "\n",
    "for k,v in prop2freq.most_common(20):\n",
    "    print(v, k, pid2alias[k][0])"
   ]
  },
  {
   "cell_type": "code",
   "execution_count": 2,
   "metadata": {},
   "outputs": [
    {
     "name": "stdout",
     "output_type": "stream",
     "text": [
      "===\n",
      "P54, member of sports team, same value: 11337, different values: 53527\n",
      "P641, sport, same value: 32601, different values: 1556\n",
      "P102, member of political party, same value: 4465, different values: 2399\n",
      "P118, league, same value: 3419, different values: 2\n",
      "P21, sex or gender, same value: 1808, different values: 518\n",
      "P106, occupation, same value: 7446, different values: 6774\n",
      "P166, award received, same value: 1803, different values: 272\n",
      "P26, spouse, same value: 65, different values: 2525\n",
      "P27, country of citizenship, same value: 288, different values: 708\n",
      "P40, child, same value: 86, different values: 464\n",
      "P1412, languages spoken, written or signed, same value: 516, different values: 187\n",
      "P22, father, same value: 45, different values: 257\n",
      "P3373, sibling, same value: 41, different values: 163\n",
      "P361, part of, same value: 75, different values: 30\n",
      "P264, record label, same value: 129, different values: 51\n",
      "P1303, instrument, same value: 82, different values: 63\n",
      "P69, educated at, same value: 94, different values: 74\n",
      "P800, notable work, same value: 9, different values: 165\n",
      "P463, member of, same value: 73, different values: 18\n",
      "P607, conflict, same value: 51, different values: 45\n",
      "P136, genre, same value: 104, different values: 15\n",
      "P25, mother, same value: 14, different values: 51\n",
      "P172, ethnic group, same value: 35, different values: 48\n",
      "P19, place of birth, same value: 34, different values: 77\n",
      "P119, place of burial, same value: 40, different values: 0\n",
      "P108, employer, same value: 39, different values: 13\n",
      "P6087, coach of sports team, same value: 17, different values: 33\n",
      "P101, field of work, same value: 19, different values: 23\n",
      "P2522, victory, same value: 13, different values: 0\n",
      "P53, family, same value: 34, different values: 4\n",
      "P135, movement, same value: 33, different values: 2\n",
      "P551, residence, same value: 36, different values: 11\n",
      "P157, killed by, same value: 0, different values: 1\n",
      "P1038, relative, same value: 3, different values: 9\n",
      "P20, place of death, same value: 20, different values: 16\n",
      "P1596, penalty, same value: 5, different values: 1\n",
      "P1399, convicted of, same value: 15, different values: 9\n",
      "P1411, nominated for, same value: 16, different values: 2\n",
      "P140, religion, same value: 16, different values: 0\n",
      "P286, head coach, same value: 9, different values: 4\n",
      "P945, allegiance, same value: 3, different values: 0\n",
      "P937, work location, same value: 9, different values: 2\n",
      "P1050, medical condition, same value: 13, different values: 4\n",
      "P1066, student of, same value: 5, different values: 5\n",
      "P2632, place of detention, same value: 5, different values: 0\n",
      "P1830, owner of, same value: 1, different values: 8\n",
      "P451, unmarried partner, same value: 1, different values: 7\n",
      "P509, cause of death, same value: 1, different values: 6\n",
      "P1327, partner in business or sport, same value: 0, different values: 6\n",
      "P1889, different from, same value: 0, different values: 6\n"
     ]
    }
   ],
   "source": [
    "import json\n",
    "from pathlib import Path\n",
    "from collections import Counter\n",
    "\n",
    "dir_entity_aliases = Path(\"/afs/crc.nd.edu/group/dmsquare/vol2/myu2/ComparisonSentences/data/wikidata_processed/aliases_sorted\")\n",
    "\n",
    "def _lookup_qid2alias(qid):\n",
    "    if len(qid) < 3:\n",
    "        table_name = f\"Q{int(qid[1]):02d}.tsv\"\n",
    "    else:\n",
    "        table_name = f\"Q{qid[1:3]}.tsv\"\n",
    "    record = None\n",
    "    with open (dir_entity_aliases / table_name, 'r') as f:\n",
    "        for line in f:\n",
    "            if not line.startswith(qid):\n",
    "                continue\n",
    "            record = line.strip().split('\\t')\n",
    "            if record[0] == qid:\n",
    "                return record[1].split('|sep|')\n",
    "    return None\n",
    "\n",
    "def _load_property2aliases(path):\n",
    "    # from the property_aliases table\n",
    "    pid2aliases = {}\n",
    "    with open(path, 'r') as f:\n",
    "        header = f.readline()\n",
    "        assert header.strip().split('\\t') == [\"alias\", \"pid\"]\n",
    "        while True:\n",
    "            line = f.readline()\n",
    "            if len(line) == 0:\n",
    "                break\n",
    "            alias, pid = line.strip().split('\\t')\n",
    "            if pid not in pid2aliases:\n",
    "                pid2aliases[pid] = []\n",
    "            pid2aliases[pid].append(alias)\n",
    "    return pid2aliases\n",
    "\n",
    "\n",
    "path_prop_alias = Path(\"/afs/crc.nd.edu/group/dmsquare/vol2/myu2/ComparisonSentences/data/wikidata_processed/property_aliases/0.tsv\")\n",
    "pid2alias = _load_property2aliases(path_prop_alias)\n",
    "idx2statement = {}\n",
    "with open (\"/afs/crc.nd.edu/group/dmsquare/vol2/myu2/ComparisonSentences/data/sentence_scoring/v1/Q5/statements.tsv\") as f:\n",
    "    for line in f:\n",
    "        idx, s = line.strip().split('\\t')\n",
    "        idx2statement[idx] = eval(s)\n",
    "prop2freq = Counter()\n",
    "statmentpair2freq = {}\n",
    "prop2statement2freq = {}\n",
    "with open (\"/afs/crc.nd.edu/group/dmsquare/vol2/myu2/ComparisonSentences/data/sentence_scoring/v1/Q5/statement_pairs.tsv\") as f:\n",
    "    for line in f:\n",
    "        s1, s2, freq = line.strip().split('\\t')\n",
    "        s1 = idx2statement[s1]\n",
    "        s2 = idx2statement[s2]\n",
    "        assert s1[1] == s2[1]\n",
    "        if s1[1] in [\"P735\", \"P31\"]: # remove \"given name\", \"instance of\"\n",
    "            continue\n",
    "        if s1[0] == s2[2] and s1[2] == s2[0]: # symmetric relationship\n",
    "            continue\n",
    "\n",
    "        prop2freq[s1[1]] += int(freq)\n",
    "\n",
    "        pair = (s1[0], s2[0], s1[1], s1[2], s2[2]) # (e1, e2, p, v1, v2)\n",
    "        statmentpair2freq[pair] = int(freq)\n",
    "        if s1[1] not in prop2statement2freq:\n",
    "            prop2statement2freq[s1[1]] = {}\n",
    "        prop2statement2freq[s1[1]][pair] = freq\n",
    "\n",
    "# for k,v in list(statmentpair2freq.items())[:50]:\n",
    "#     assert len(k) == 5\n",
    "#     print(f\"{v}, ({_lookup_qid2alias(k[0])[0]}, {pid2alias[k[2]][0]}, {_lookup_qid2alias(k[0])[0]}, {_lookup_qid2alias(k[0])[0]}, {_lookup_qid2alias(k[3])[0]}, {_lookup_qid2alias(k[4])[0]})\")\n",
    "\n",
    "print(\"===\")\n",
    "\n",
    "for prop,prop_freq in prop2freq.most_common(50):\n",
    "\n",
    "    # print(f\"\\n==== Property: {prop}; Name: {pid2alias[prop][0]}; Count: {prop2freq} ===\")\n",
    "    _pair2freq = prop2statement2freq[prop]\n",
    "    cnt_same = 0\n",
    "    cnt_diff = 0\n",
    "    for k,v in list(_pair2freq.items()):\n",
    "        assert len(k) == 5\n",
    "        if k[3] == k[4]:\n",
    "            cnt_same += 1\n",
    "        else:\n",
    "            cnt_diff += 1\n",
    "            # print(f\"{v}, {pid2alias[k[2]][0]}; s1: ({_lookup_qid2alias(k[0])[0]}, {_lookup_qid2alias(k[3])[0]}); s2: ({_lookup_qid2alias(k[1])[0]}, {_lookup_qid2alias(k[4])[0]})\")\n",
    "    print(f\"{prop}, {pid2alias[prop][0]}, same value: {cnt_same}, different values: {cnt_diff}\")"
   ]
  },
  {
   "cell_type": "code",
   "execution_count": null,
   "metadata": {},
   "outputs": [],
   "source": []
  }
 ],
 "metadata": {
  "kernelspec": {
   "display_name": "Python 3.7.11 ('bert')",
   "language": "python",
   "name": "python3"
  },
  "language_info": {
   "codemirror_mode": {
    "name": "ipython",
    "version": 3
   },
   "file_extension": ".py",
   "mimetype": "text/x-python",
   "name": "python",
   "nbconvert_exporter": "python",
   "pygments_lexer": "ipython3",
   "version": "3.7.11"
  },
  "orig_nbformat": 4,
  "vscode": {
   "interpreter": {
    "hash": "038ac43ff01c31cd641835814f979bd9daf9dcda5104326cfb2cc592d72d42d9"
   }
  }
 },
 "nbformat": 4,
 "nbformat_minor": 2
}
