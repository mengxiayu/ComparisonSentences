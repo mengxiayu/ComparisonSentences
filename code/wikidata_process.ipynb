{
 "cells": [
  {
   "cell_type": "code",
   "execution_count": 3,
   "metadata": {},
   "outputs": [],
   "source": [
    "target = \"Q22686\""
   ]
  },
  {
   "cell_type": "code",
   "execution_count": 5,
   "metadata": {},
   "outputs": [
    {
     "name": "stdout",
     "output_type": "stream",
     "text": [
      "              label     qid\n",
      "69280  Donald Trump  Q22686\n"
     ]
    }
   ],
   "source": [
    "import pandas as pd\n",
    "import os\n",
    "path = \"/Users/mengxiayu/Documents/Research/WIKIPEDIA/wikidata/labels/\"\n",
    "dir_list = os.listdir(path)\n",
    "for batch_file in dir_list:\n",
    "\n",
    "    df = pd.read_csv(path+batch_file, sep='\\t', header=0)\n",
    "    # print(df.head())\n",
    "    record = df.loc[df[\"qid\"] == target]\n",
    "    if len(record) > 0:\n",
    "\n",
    "        print(record)\n"
   ]
  },
  {
   "cell_type": "markdown",
   "metadata": {},
   "source": []
  },
  {
   "cell_type": "code",
   "execution_count": null,
   "metadata": {},
   "outputs": [],
   "source": []
  }
 ],
 "metadata": {
  "kernelspec": {
   "display_name": "Python 3.7.11 ('bert')",
   "language": "python",
   "name": "python3"
  },
  "language_info": {
   "codemirror_mode": {
    "name": "ipython",
    "version": 3
   },
   "file_extension": ".py",
   "mimetype": "text/x-python",
   "name": "python",
   "nbconvert_exporter": "python",
   "pygments_lexer": "ipython3",
   "version": "3.7.11"
  },
  "orig_nbformat": 4,
  "vscode": {
   "interpreter": {
    "hash": "e9e61f8d546329b383339a5a7c490bb93f3c20f31eab98313765141e23006966"
   }
  }
 },
 "nbformat": 4,
 "nbformat_minor": 2
}
