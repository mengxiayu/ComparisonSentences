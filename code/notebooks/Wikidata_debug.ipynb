{
 "cells": [
  {
   "cell_type": "markdown",
   "metadata": {},
   "source": [
    "# Code to process the wikidata provided by Wenhao\n",
    "\n",
    "vol1/data/WIKIPEDIA/kg/\n",
    "\n",
    "parsed_page.jsonl {\"page_id\": \"12\", \"item_id\": \"6199\", \"title\": \"Anarchism\"}\n",
    "\n",
    "page.csv: page_id,item_id,title,views\n",
    "\n",
    "statements.csv: source_item_id,edge_property_id,target_item_id\n",
    "\n",
    "item.csv: item_id,en_label,en_description\n",
    "\n",
    "property.csv: property_id,en_label,en_description\n"
   ]
  },
  {
   "cell_type": "code",
   "execution_count": 1,
   "metadata": {},
   "outputs": [
    {
     "name": "stdout",
     "output_type": "stream",
     "text": [
      "df_item size 51450316\n",
      "df_statement size 141206853\n",
      "df_property size 6985\n"
     ]
    }
   ],
   "source": [
    "import os \n",
    "path = \"/Users/mengxiayu/Documents/Research/WIKIPEDIA/kg/\"\n",
    "import pandas as pd\n",
    "df_item = pd.read_csv(path+\"item.csv\")\n",
    "print(\"df_item size\", len(df_item))\n",
    "\n",
    "df_statement = pd.read_csv(path + \"statements.csv\")\n",
    "print(\"df_statement size\", len(df_statement))\n",
    "\n",
    "df_property = pd.read_csv(path + \"property.csv\")\n",
    "print(\"df_property size\", len(df_property))\n"
   ]
  },
  {
   "cell_type": "code",
   "execution_count": 2,
   "metadata": {},
   "outputs": [],
   "source": [
    "def item2name(item):\n",
    "    return df_item.loc[df_item[\"item_id\"] == item][\"en_label\"].to_string(index=False)\n",
    "def prop2name(property):\n",
    "    return df_property.loc[df_property[\"property_id\"] == property][\"en_label\"].to_string(index=False)"
   ]
  },
  {
   "cell_type": "markdown",
   "metadata": {},
   "source": [
    "the distribution of properties and values"
   ]
  },
  {
   "cell_type": "code",
   "execution_count": 3,
   "metadata": {},
   "outputs": [],
   "source": [
    "from collections import Counter\n",
    "cnt_properties = Counter(df_statement[\"edge_property_id\"])"
   ]
  },
  {
   "cell_type": "code",
   "execution_count": 4,
   "metadata": {},
   "outputs": [
    {
     "name": "stdout",
     "output_type": "stream",
     "text": [
      "instance of\n",
      "published in\n",
      "country\n",
      "language of work or name\n",
      "located in the administrative territorial entity\n",
      "main subject\n",
      "occupation\n",
      "country of citizenship\n",
      "given name\n",
      "taxon rank\n",
      "place of birth\n",
      "located in time zone\n",
      "parent taxon\n",
      "subclass of\n",
      "family name\n",
      "sex or gender\n",
      "sport\n",
      "member of sports team\n",
      "location\n",
      "educated at\n"
     ]
    }
   ],
   "source": [
    "for k,v in cnt_properties.most_common(20):\n",
    "    print(prop2name(k))"
   ]
  },
  {
   "cell_type": "markdown",
   "metadata": {},
   "source": [
    "“instance of” can be used for classify item.\n",
    "edge_property_id: 31 "
   ]
  },
  {
   "cell_type": "code",
   "execution_count": 5,
   "metadata": {},
   "outputs": [],
   "source": [
    "selected = df_statement.loc[df_statement[\"edge_property_id\"] == 31]\n",
    "cnt_values = Counter(selected[\"target_item_id\"])"
   ]
  },
  {
   "cell_type": "markdown",
   "metadata": {},
   "source": [
    "most frequent property values"
   ]
  },
  {
   "cell_type": "code",
   "execution_count": 6,
   "metadata": {},
   "outputs": [
    {
     "name": "stdout",
     "output_type": "stream",
     "text": [
      "6221695 5 human\n",
      "2617347 16521 taxon\n",
      "1186867 7187 gene\n",
      "973318 8054 protein\n",
      "588507 13100073 village-level division in China\n",
      "524700 8502 mountain\n",
      "456658 486972 human settlement\n",
      "415212 523 star\n",
      "397810 4022 river\n",
      "379630 79007 street\n",
      "322701 54050 hill\n",
      "321738 30612 clinical trial\n",
      "301216 101352 family name\n",
      "281507 318 galaxy\n",
      "273055 532 village\n",
      "262893 11173 chemical compound\n",
      "246901 3863 asteroid\n",
      "245900 23397 lake\n",
      "237043 11424 film\n",
      "215391 482994 album\n"
     ]
    }
   ],
   "source": [
    "for prop, freq in cnt_values.most_common(20):\n",
    "    print(freq, prop, item2name(prop))"
   ]
  },
  {
   "cell_type": "markdown",
   "metadata": {},
   "source": [
    "most frequent properties of human.\n",
    "\n",
    "**human items has 467 distinct properties**"
   ]
  },
  {
   "cell_type": "code",
   "execution_count": 7,
   "metadata": {},
   "outputs": [
    {
     "name": "stdout",
     "output_type": "stream",
     "text": [
      "length of items_human 6221695\n",
      "length of human statements 34447385\n",
      "6224170 31 instance of\n",
      "4284685 106 occupation\n",
      "3491940 27 country of citizenship\n",
      "2778825 735 given name\n",
      "2242227 19 place of birth\n",
      "1686497 734 family name\n",
      "1657609 21 sex or gender\n",
      "1318256 54 member of sports team\n",
      "1165914 69 educated at\n",
      "856722 20 place of death\n",
      "846451 1412 languages spoken, written or signed\n",
      "841587 641 sport\n",
      "697273 108 employer\n",
      "660652 166 award received\n",
      "563212 39 position held\n",
      "405978 1344 participant of\n",
      "393673 102 member of political party\n",
      "333690 413 position played on team / speciality\n",
      "254962 937 work location\n",
      "222758 1343 described by source\n",
      "467\n"
     ]
    }
   ],
   "source": [
    "items_human = df_statement.loc[(df_statement[\"edge_property_id\"] == 31) & (df_statement[\"target_item_id\"] == 5)][\"source_item_id\"] \n",
    "print(\"length of items_human\", len(items_human))\n",
    "selected_statements = df_statement.loc[df_statement[\"source_item_id\"].isin(items_human)] \n",
    "print(\"length of human statements\", len(selected_statements))\n",
    "cnt = Counter(selected_statements[\"edge_property_id\"])\n",
    "for k,v in cnt.most_common(20):\n",
    "    print(v, k, prop2name(k))\n",
    "print(len(set(selected_statements[\"edge_property_id\"])))"
   ]
  },
  {
   "cell_type": "markdown",
   "metadata": {},
   "source": [
    "look at occupation value\n",
    "\n",
    "**property \"occupation\" has 8505 distinct values**"
   ]
  },
  {
   "cell_type": "code",
   "execution_count": 8,
   "metadata": {},
   "outputs": [
    {
     "name": "stdout",
     "output_type": "stream",
     "text": [
      "597418 82955 politician\n",
      "256208 937857 association football player\n",
      "246150 36180 writer\n",
      "216224 33999 actor\n",
      "115786 1930187 journalist\n",
      "78314 49757 poet\n",
      "77140 36834 composer\n",
      "72524 47064 military personnel\n",
      "67334 40348 lawyer\n",
      "55790 43845 businessperson\n",
      "8505\n"
     ]
    }
   ],
   "source": [
    "cnt_occupation = Counter(selected_statements.loc[selected_statements[\"edge_property_id\"] == 106][\"target_item_id\"])\n",
    "for k,v in cnt_occupation.most_common(10):\n",
    "    print(v, k, item2name(k))\n",
    "print(len(set(cnt_occupation)))"
   ]
  },
  {
   "cell_type": "markdown",
   "metadata": {},
   "source": [
    "most frequent country of citizenship. USA: 400,396"
   ]
  },
  {
   "cell_type": "code",
   "execution_count": 9,
   "metadata": {},
   "outputs": [
    {
     "name": "stdout",
     "output_type": "stream",
     "text": [
      "# values of 'country of citizenship' 2484\n",
      "400396 30 United States of America\n",
      "234488 183 Germany\n",
      "218384 142 France\n",
      "160015 17 Japan\n",
      "135986 145 United Kingdom\n",
      "124611 9903 Ming dynasty\n",
      "111262 29 Spain\n",
      "86070 15180 Soviet Union\n",
      "86046 38 Italy\n",
      "75137 16 Canada\n"
     ]
    }
   ],
   "source": [
    "cnt_country = Counter(selected_statements.loc[selected_statements[\"edge_property_id\"]==27][\"target_item_id\"])\n",
    "print(\"# values of 'country of citizenship'\", len(cnt_country))\n",
    "for k,v in cnt_country.most_common(10):\n",
    "    print(v, k, item2name(k))\n"
   ]
  },
  {
   "cell_type": "markdown",
   "metadata": {},
   "source": [
    "count the amount of USA citizens"
   ]
  },
  {
   "cell_type": "code",
   "execution_count": 10,
   "metadata": {},
   "outputs": [
    {
     "name": "stdout",
     "output_type": "stream",
     "text": [
      "400396\n"
     ]
    }
   ],
   "source": [
    "item_usa_citizen = selected_statements.loc[(selected_statements[\"edge_property_id\"]==27) & (selected_statements[\"target_item_id\"]==30)][\"source_item_id\"]\n",
    "print(len(item_usa_citizen))"
   ]
  },
  {
   "cell_type": "markdown",
   "metadata": {},
   "source": [
    "create statement df for usa citizen items. len: 4237884"
   ]
  },
  {
   "cell_type": "code",
   "execution_count": 11,
   "metadata": {},
   "outputs": [
    {
     "name": "stdout",
     "output_type": "stream",
     "text": [
      "4237884\n"
     ]
    }
   ],
   "source": [
    "statement_usa_citizen = selected_statements.loc[selected_statements[\"source_item_id\"].isin(item_usa_citizen)]\n",
    "print(len(statement_usa_citizen))"
   ]
  },
  {
   "cell_type": "markdown",
   "metadata": {},
   "source": [
    "most frequent occupation in usa: 51175 82955 politician"
   ]
  },
  {
   "cell_type": "code",
   "execution_count": 12,
   "metadata": {},
   "outputs": [
    {
     "name": "stdout",
     "output_type": "stream",
     "text": [
      "51175 82955 politician\n",
      "31894 33999 actor\n",
      "25732 19204627 American football player\n",
      "22616 40348 lawyer\n",
      "22417 36180 writer\n",
      "19989 10871364 baseball player\n",
      "16828 10798782 television actor\n",
      "16246 10800557 film actor\n",
      "14279 1930187 journalist\n",
      "12892 177220 singer\n",
      "11489 36834 composer\n",
      "11276 28389 screenwriter\n",
      "10208 639669 musician\n",
      "9869 3665646 basketball player\n",
      "9481 16533 judge\n",
      "8934 43845 businessperson\n",
      "8204 3282637 film producer\n",
      "8195 6625963 novelist\n",
      "7680 1622272 university teacher\n",
      "7450 2526255 film director\n"
     ]
    }
   ],
   "source": [
    "cnt_occupation_usa = Counter(statement_usa_citizen.loc[statement_usa_citizen[\"edge_property_id\"] == 106][\"target_item_id\"])\n",
    "for k,v in cnt_occupation_usa.most_common(20):\n",
    "    print(v, k, item2name(k))"
   ]
  },
  {
   "cell_type": "code",
   "execution_count": 13,
   "metadata": {},
   "outputs": [
    {
     "name": "stdout",
     "output_type": "stream",
     "text": [
      "268\n",
      "205775\n"
     ]
    }
   ],
   "source": [
    "print(len(set(statement_usa_citizen[\"edge_property_id\"])))\n",
    "print(len(set(statement_usa_citizen[\"target_item_id\"])))"
   ]
  },
  {
   "cell_type": "markdown",
   "metadata": {},
   "source": [
    "usa politician"
   ]
  },
  {
   "cell_type": "code",
   "execution_count": 14,
   "metadata": {},
   "outputs": [
    {
     "name": "stdout",
     "output_type": "stream",
     "text": [
      "51175\n",
      "631821\n",
      "155\n",
      "42434\n"
     ]
    }
   ],
   "source": [
    "item_usa_politician = statement_usa_citizen.loc[(statement_usa_citizen[\"edge_property_id\"] == 106) & (statement_usa_citizen[\"target_item_id\"] == 82955)][\"source_item_id\"]\n",
    "print(len(item_usa_politician))\n",
    "statement_usa_politician = df_statement.loc[df_statement[\"source_item_id\"].isin(item_usa_politician)]\n",
    "print(len(statement_usa_politician))\n",
    "print(len(set(statement_usa_politician[\"edge_property_id\"])))\n",
    "print(len(set(statement_usa_politician[\"target_item_id\"])))"
   ]
  },
  {
   "cell_type": "code",
   "execution_count": 15,
   "metadata": {},
   "outputs": [
    {
     "name": "stdout",
     "output_type": "stream",
     "text": [
      "155\n"
     ]
    }
   ],
   "source": [
    "prop_usa_politician = set(statement_usa_politician[\"edge_property_id\"])\n",
    "print(len(prop_usa_politician))"
   ]
  },
  {
   "cell_type": "markdown",
   "metadata": {},
   "source": [
    "1. create a prop-value matrix of human item.\n",
    "2. compute similarities among them."
   ]
  },
  {
   "cell_type": "code",
   "execution_count": 28,
   "metadata": {},
   "outputs": [],
   "source": [
    "idx2item = {}\n",
    "item2idx = {}\n",
    "idx2prop = {}\n",
    "prop2idx = {}\n",
    "\n",
    "for index, item in enumerate(set(statement_usa_politician[\"source_item_id\"])):\n",
    "    idx2item[len(idx2item)] = item\n",
    "for idx,item in idx2item.items():\n",
    "    item2idx[item] = idx\n",
    "\n",
    "for index, prop_id in enumerate(prop_usa_politician):\n",
    "    idx2prop[index] = prop_id\n",
    "for idx,prop in idx2prop.items():\n",
    "    prop2idx[prop] = idx"
   ]
  },
  {
   "cell_type": "code",
   "execution_count": 29,
   "metadata": {},
   "outputs": [
    {
     "name": "stdout",
     "output_type": "stream",
     "text": [
      "51175\n",
      "51175\n",
      "155\n",
      "155\n"
     ]
    }
   ],
   "source": [
    "print(len(idx2item))\n",
    "print(len(item2idx))\n",
    "print(len(idx2prop))\n",
    "print(len(prop2idx))"
   ]
  },
  {
   "cell_type": "code",
   "execution_count": 50,
   "metadata": {},
   "outputs": [],
   "source": [
    "import numpy as np\n",
    "mat = np.zeros((len(idx2item), len(idx2prop)), dtype=int)\n",
    "for index, row in statement_usa_politician.iterrows():   \n",
    "    # print(item2idx[row[\"source_item_id\"]], prop2idx[row[\"edge_property_id\"]], row[\"target_item_id\"]) \n",
    "    mat[item2idx[row[\"source_item_id\"]]][prop2idx[row[\"edge_property_id\"]]] = row[\"target_item_id\"]"
   ]
  },
  {
   "cell_type": "code",
   "execution_count": 51,
   "metadata": {},
   "outputs": [
    {
     "data": {
      "text/plain": [
       "source_item_id          23\n",
       "edge_property_id        19\n",
       "target_item_id      494413\n",
       "Name: 1233, dtype: int64"
      ]
     },
     "execution_count": 51,
     "metadata": {},
     "output_type": "execute_result"
    }
   ],
   "source": [
    "statement_usa_politician.iloc[0]"
   ]
  },
  {
   "cell_type": "code",
   "execution_count": 52,
   "metadata": {},
   "outputs": [
    {
     "data": {
      "text/plain": [
       "494413"
      ]
     },
     "execution_count": 52,
     "metadata": {},
     "output_type": "execute_result"
    }
   ],
   "source": [
    "mat[item2idx[23]][prop2idx[19]]"
   ]
  },
  {
   "cell_type": "code",
   "execution_count": 65,
   "metadata": {},
   "outputs": [
    {
     "name": "stdout",
     "output_type": "stream",
     "text": [
      "155\n",
      "51175\n"
     ]
    }
   ],
   "source": [
    "list_column = [v for x,v in sorted(idx2prop.items())]\n",
    "print(len(list_column))\n",
    "list_row = [v for x,v in sorted(idx2item.items())]\n",
    "print(len(list_row))"
   ]
  },
  {
   "cell_type": "code",
   "execution_count": 55,
   "metadata": {},
   "outputs": [],
   "source": [
    "usa_politician_feature = pd.DataFrame(mat, columns=list_column)\n",
    "usa_politician_feature.index = list_row"
   ]
  },
  {
   "cell_type": "code",
   "execution_count": 56,
   "metadata": {},
   "outputs": [
    {
     "data": {
      "text/plain": [
       "494413"
      ]
     },
     "execution_count": 56,
     "metadata": {},
     "output_type": "execute_result"
    }
   ],
   "source": [
    "usa_politician_feature.iloc[item2idx[23], prop2idx[19]]"
   ]
  },
  {
   "cell_type": "code",
   "execution_count": 57,
   "metadata": {},
   "outputs": [
    {
     "data": {
      "text/html": [
       "<div>\n",
       "<style scoped>\n",
       "    .dataframe tbody tr th:only-of-type {\n",
       "        vertical-align: middle;\n",
       "    }\n",
       "\n",
       "    .dataframe tbody tr th {\n",
       "        vertical-align: top;\n",
       "    }\n",
       "\n",
       "    .dataframe thead th {\n",
       "        text-align: right;\n",
       "    }\n",
       "</style>\n",
       "<table border=\"1\" class=\"dataframe\">\n",
       "  <thead>\n",
       "    <tr style=\"text-align: right;\">\n",
       "      <th></th>\n",
       "      <th>512</th>\n",
       "      <th>1026</th>\n",
       "      <th>5125</th>\n",
       "      <th>1037</th>\n",
       "      <th>1038</th>\n",
       "      <th>527</th>\n",
       "      <th>17</th>\n",
       "      <th>3602</th>\n",
       "      <th>19</th>\n",
       "      <th>20</th>\n",
       "      <th>...</th>\n",
       "      <th>452</th>\n",
       "      <th>463</th>\n",
       "      <th>2522</th>\n",
       "      <th>991</th>\n",
       "      <th>485</th>\n",
       "      <th>1000</th>\n",
       "      <th>5096</th>\n",
       "      <th>1532</th>\n",
       "      <th>509</th>\n",
       "      <th>511</th>\n",
       "    </tr>\n",
       "  </thead>\n",
       "  <tbody>\n",
       "    <tr>\n",
       "      <th>0</th>\n",
       "      <td>0</td>\n",
       "      <td>0</td>\n",
       "      <td>0</td>\n",
       "      <td>0</td>\n",
       "      <td>0</td>\n",
       "      <td>0</td>\n",
       "      <td>0</td>\n",
       "      <td>0</td>\n",
       "      <td>38555</td>\n",
       "      <td>5911277</td>\n",
       "      <td>...</td>\n",
       "      <td>0</td>\n",
       "      <td>0</td>\n",
       "      <td>0</td>\n",
       "      <td>0</td>\n",
       "      <td>0</td>\n",
       "      <td>0</td>\n",
       "      <td>0</td>\n",
       "      <td>0</td>\n",
       "      <td>175111</td>\n",
       "      <td>0</td>\n",
       "    </tr>\n",
       "    <tr>\n",
       "      <th>1</th>\n",
       "      <td>0</td>\n",
       "      <td>0</td>\n",
       "      <td>0</td>\n",
       "      <td>0</td>\n",
       "      <td>0</td>\n",
       "      <td>0</td>\n",
       "      <td>0</td>\n",
       "      <td>0</td>\n",
       "      <td>967215</td>\n",
       "      <td>0</td>\n",
       "      <td>...</td>\n",
       "      <td>0</td>\n",
       "      <td>0</td>\n",
       "      <td>0</td>\n",
       "      <td>0</td>\n",
       "      <td>0</td>\n",
       "      <td>0</td>\n",
       "      <td>0</td>\n",
       "      <td>0</td>\n",
       "      <td>0</td>\n",
       "      <td>0</td>\n",
       "    </tr>\n",
       "    <tr>\n",
       "      <th>2</th>\n",
       "      <td>0</td>\n",
       "      <td>0</td>\n",
       "      <td>0</td>\n",
       "      <td>0</td>\n",
       "      <td>0</td>\n",
       "      <td>0</td>\n",
       "      <td>0</td>\n",
       "      <td>0</td>\n",
       "      <td>0</td>\n",
       "      <td>0</td>\n",
       "      <td>...</td>\n",
       "      <td>0</td>\n",
       "      <td>0</td>\n",
       "      <td>0</td>\n",
       "      <td>0</td>\n",
       "      <td>0</td>\n",
       "      <td>0</td>\n",
       "      <td>0</td>\n",
       "      <td>0</td>\n",
       "      <td>12078</td>\n",
       "      <td>0</td>\n",
       "    </tr>\n",
       "    <tr>\n",
       "      <th>3</th>\n",
       "      <td>0</td>\n",
       "      <td>0</td>\n",
       "      <td>0</td>\n",
       "      <td>0</td>\n",
       "      <td>0</td>\n",
       "      <td>0</td>\n",
       "      <td>0</td>\n",
       "      <td>0</td>\n",
       "      <td>664723</td>\n",
       "      <td>65</td>\n",
       "      <td>...</td>\n",
       "      <td>0</td>\n",
       "      <td>0</td>\n",
       "      <td>0</td>\n",
       "      <td>0</td>\n",
       "      <td>0</td>\n",
       "      <td>0</td>\n",
       "      <td>0</td>\n",
       "      <td>0</td>\n",
       "      <td>0</td>\n",
       "      <td>0</td>\n",
       "    </tr>\n",
       "    <tr>\n",
       "      <th>4</th>\n",
       "      <td>0</td>\n",
       "      <td>0</td>\n",
       "      <td>0</td>\n",
       "      <td>0</td>\n",
       "      <td>0</td>\n",
       "      <td>0</td>\n",
       "      <td>0</td>\n",
       "      <td>0</td>\n",
       "      <td>34404</td>\n",
       "      <td>0</td>\n",
       "      <td>...</td>\n",
       "      <td>0</td>\n",
       "      <td>0</td>\n",
       "      <td>0</td>\n",
       "      <td>0</td>\n",
       "      <td>0</td>\n",
       "      <td>0</td>\n",
       "      <td>0</td>\n",
       "      <td>0</td>\n",
       "      <td>0</td>\n",
       "      <td>0</td>\n",
       "    </tr>\n",
       "  </tbody>\n",
       "</table>\n",
       "<p>5 rows × 155 columns</p>\n",
       "</div>"
      ],
      "text/plain": [
       "   512   1026  5125  1037  1038  527   17    3602    19       20    ...  452   \\\n",
       "0     0     0     0     0     0     0     0     0   38555  5911277  ...     0   \n",
       "1     0     0     0     0     0     0     0     0  967215        0  ...     0   \n",
       "2     0     0     0     0     0     0     0     0       0        0  ...     0   \n",
       "3     0     0     0     0     0     0     0     0  664723       65  ...     0   \n",
       "4     0     0     0     0     0     0     0     0   34404        0  ...     0   \n",
       "\n",
       "   463   2522  991   485   1000  5096  1532    509   511   \n",
       "0     0     0     0     0     0     0     0  175111     0  \n",
       "1     0     0     0     0     0     0     0       0     0  \n",
       "2     0     0     0     0     0     0     0   12078     0  \n",
       "3     0     0     0     0     0     0     0       0     0  \n",
       "4     0     0     0     0     0     0     0       0     0  \n",
       "\n",
       "[5 rows x 155 columns]"
      ]
     },
     "execution_count": 57,
     "metadata": {},
     "output_type": "execute_result"
    }
   ],
   "source": [
    "usa_politician_feature.head()"
   ]
  },
  {
   "cell_type": "code",
   "execution_count": 72,
   "metadata": {},
   "outputs": [],
   "source": [
    "usa_politician_feature.to_csv(path+\"feature_usa_politician.csv\", index=True)"
   ]
  },
  {
   "cell_type": "code",
   "execution_count": 92,
   "metadata": {},
   "outputs": [
    {
     "data": {
      "text/plain": [
       "27787813"
      ]
     },
     "execution_count": 92,
     "metadata": {},
     "output_type": "execute_result"
    }
   ],
   "source": [
    "usa_politician_feature.loc[6294][19]"
   ]
  },
  {
   "cell_type": "code",
   "execution_count": 93,
   "metadata": {},
   "outputs": [
    {
     "name": "stdout",
     "output_type": "stream",
     "text": [
      "Hillary Clinton place of birth Edgewater Hospital\n"
     ]
    }
   ],
   "source": [
    "print(item2name(6294), prop2name(19), item2name(27787813))"
   ]
  },
  {
   "cell_type": "code",
   "execution_count": 74,
   "metadata": {},
   "outputs": [
    {
     "data": {
      "text/html": [
       "<div>\n",
       "<style scoped>\n",
       "    .dataframe tbody tr th:only-of-type {\n",
       "        vertical-align: middle;\n",
       "    }\n",
       "\n",
       "    .dataframe tbody tr th {\n",
       "        vertical-align: top;\n",
       "    }\n",
       "\n",
       "    .dataframe thead th {\n",
       "        text-align: right;\n",
       "    }\n",
       "</style>\n",
       "<table border=\"1\" class=\"dataframe\">\n",
       "  <thead>\n",
       "    <tr style=\"text-align: right;\">\n",
       "      <th></th>\n",
       "      <th>item_id</th>\n",
       "      <th>en_label</th>\n",
       "      <th>en_description</th>\n",
       "    </tr>\n",
       "  </thead>\n",
       "  <tbody>\n",
       "    <tr>\n",
       "      <th>65</th>\n",
       "      <td>76</td>\n",
       "      <td>Barack Obama</td>\n",
       "      <td>44th president of the United States</td>\n",
       "    </tr>\n",
       "    <tr>\n",
       "      <th>32370596</th>\n",
       "      <td>47513588</td>\n",
       "      <td>Barack Obama</td>\n",
       "      <td>painting by Michael A. Glier</td>\n",
       "    </tr>\n",
       "  </tbody>\n",
       "</table>\n",
       "</div>"
      ],
      "text/plain": [
       "           item_id      en_label                       en_description\n",
       "65              76  Barack Obama  44th president of the United States\n",
       "32370596  47513588  Barack Obama         painting by Michael A. Glier"
      ]
     },
     "execution_count": 74,
     "metadata": {},
     "output_type": "execute_result"
    }
   ],
   "source": [
    "df_item.loc[df_item[\"en_label\"]==\"Barack Obama\"]"
   ]
  },
  {
   "cell_type": "code",
   "execution_count": 76,
   "metadata": {},
   "outputs": [
    {
     "data": {
      "text/html": [
       "<div>\n",
       "<style scoped>\n",
       "    .dataframe tbody tr th:only-of-type {\n",
       "        vertical-align: middle;\n",
       "    }\n",
       "\n",
       "    .dataframe tbody tr th {\n",
       "        vertical-align: top;\n",
       "    }\n",
       "\n",
       "    .dataframe thead th {\n",
       "        text-align: right;\n",
       "    }\n",
       "</style>\n",
       "<table border=\"1\" class=\"dataframe\">\n",
       "  <thead>\n",
       "    <tr style=\"text-align: right;\">\n",
       "      <th></th>\n",
       "      <th>item_id</th>\n",
       "      <th>en_label</th>\n",
       "      <th>en_description</th>\n",
       "    </tr>\n",
       "  </thead>\n",
       "  <tbody>\n",
       "    <tr>\n",
       "      <th>5884</th>\n",
       "      <td>6294</td>\n",
       "      <td>Hillary Clinton</td>\n",
       "      <td>American politician, senator, Secretary of Sta...</td>\n",
       "    </tr>\n",
       "    <tr>\n",
       "      <th>32370270</th>\n",
       "      <td>47513201</td>\n",
       "      <td>Hillary Clinton</td>\n",
       "      <td>painting by Aaron Shikler</td>\n",
       "    </tr>\n",
       "  </tbody>\n",
       "</table>\n",
       "</div>"
      ],
      "text/plain": [
       "           item_id         en_label  \\\n",
       "5884          6294  Hillary Clinton   \n",
       "32370270  47513201  Hillary Clinton   \n",
       "\n",
       "                                             en_description  \n",
       "5884      American politician, senator, Secretary of Sta...  \n",
       "32370270                          painting by Aaron Shikler  "
      ]
     },
     "execution_count": 76,
     "metadata": {},
     "output_type": "execute_result"
    }
   ],
   "source": [
    "df_item.loc[df_item[\"en_label\"]==\"Hillary Clinton\"]"
   ]
  },
  {
   "cell_type": "code",
   "execution_count": 97,
   "metadata": {},
   "outputs": [],
   "source": [
    "tmp_df = usa_politician_feature.loc[usa_politician_feature.index.isin([6294, 76])]\n"
   ]
  },
  {
   "cell_type": "code",
   "execution_count": 100,
   "metadata": {},
   "outputs": [
    {
     "data": {
      "text/html": [
       "<div>\n",
       "<style scoped>\n",
       "    .dataframe tbody tr th:only-of-type {\n",
       "        vertical-align: middle;\n",
       "    }\n",
       "\n",
       "    .dataframe tbody tr th {\n",
       "        vertical-align: top;\n",
       "    }\n",
       "\n",
       "    .dataframe thead th {\n",
       "        text-align: right;\n",
       "    }\n",
       "</style>\n",
       "<table border=\"1\" class=\"dataframe\">\n",
       "  <thead>\n",
       "    <tr style=\"text-align: right;\">\n",
       "      <th></th>\n",
       "      <th>512</th>\n",
       "      <th>1026</th>\n",
       "      <th>5125</th>\n",
       "      <th>1037</th>\n",
       "      <th>1038</th>\n",
       "      <th>527</th>\n",
       "      <th>17</th>\n",
       "      <th>3602</th>\n",
       "      <th>19</th>\n",
       "      <th>20</th>\n",
       "      <th>...</th>\n",
       "      <th>452</th>\n",
       "      <th>463</th>\n",
       "      <th>2522</th>\n",
       "      <th>991</th>\n",
       "      <th>485</th>\n",
       "      <th>1000</th>\n",
       "      <th>5096</th>\n",
       "      <th>1532</th>\n",
       "      <th>509</th>\n",
       "      <th>511</th>\n",
       "    </tr>\n",
       "  </thead>\n",
       "  <tbody>\n",
       "    <tr>\n",
       "      <th>76</th>\n",
       "      <td>1765120</td>\n",
       "      <td>0</td>\n",
       "      <td>0</td>\n",
       "      <td>0</td>\n",
       "      <td>4115068</td>\n",
       "      <td>0</td>\n",
       "      <td>0</td>\n",
       "      <td>0</td>\n",
       "      <td>6366688</td>\n",
       "      <td>0</td>\n",
       "      <td>...</td>\n",
       "      <td>0</td>\n",
       "      <td>466089</td>\n",
       "      <td>0</td>\n",
       "      <td>0</td>\n",
       "      <td>0</td>\n",
       "      <td>0</td>\n",
       "      <td>0</td>\n",
       "      <td>0</td>\n",
       "      <td>0</td>\n",
       "      <td>0</td>\n",
       "    </tr>\n",
       "    <tr>\n",
       "      <th>6294</th>\n",
       "      <td>1540185</td>\n",
       "      <td>0</td>\n",
       "      <td>0</td>\n",
       "      <td>0</td>\n",
       "      <td>0</td>\n",
       "      <td>0</td>\n",
       "      <td>0</td>\n",
       "      <td>0</td>\n",
       "      <td>27787813</td>\n",
       "      <td>0</td>\n",
       "      <td>...</td>\n",
       "      <td>0</td>\n",
       "      <td>3075672</td>\n",
       "      <td>0</td>\n",
       "      <td>0</td>\n",
       "      <td>0</td>\n",
       "      <td>0</td>\n",
       "      <td>0</td>\n",
       "      <td>0</td>\n",
       "      <td>0</td>\n",
       "      <td>0</td>\n",
       "    </tr>\n",
       "  </tbody>\n",
       "</table>\n",
       "<p>2 rows × 155 columns</p>\n",
       "</div>"
      ],
      "text/plain": [
       "         512   1026  5125  1037     1038  527   17    3602      19    20    \\\n",
       "76    1765120     0     0     0  4115068     0     0     0   6366688     0   \n",
       "6294  1540185     0     0     0        0     0     0     0  27787813     0   \n",
       "\n",
       "      ...  452      463   2522  991   485   1000  5096  1532  509   511   \n",
       "76    ...     0   466089     0     0     0     0     0     0     0     0  \n",
       "6294  ...     0  3075672     0     0     0     0     0     0     0     0  \n",
       "\n",
       "[2 rows x 155 columns]"
      ]
     },
     "execution_count": 100,
     "metadata": {},
     "output_type": "execute_result"
    }
   ],
   "source": [
    "tmp_df"
   ]
  },
  {
   "cell_type": "code",
   "execution_count": 109,
   "metadata": {},
   "outputs": [
    {
     "data": {
      "text/html": [
       "<div>\n",
       "<style scoped>\n",
       "    .dataframe tbody tr th:only-of-type {\n",
       "        vertical-align: middle;\n",
       "    }\n",
       "\n",
       "    .dataframe tbody tr th {\n",
       "        vertical-align: top;\n",
       "    }\n",
       "\n",
       "    .dataframe thead th {\n",
       "        text-align: right;\n",
       "    }\n",
       "</style>\n",
       "<table border=\"1\" class=\"dataframe\">\n",
       "  <thead>\n",
       "    <tr style=\"text-align: right;\">\n",
       "      <th></th>\n",
       "      <th>512</th>\n",
       "      <th>1026</th>\n",
       "      <th>5125</th>\n",
       "      <th>1037</th>\n",
       "      <th>1038</th>\n",
       "      <th>527</th>\n",
       "      <th>17</th>\n",
       "      <th>3602</th>\n",
       "      <th>19</th>\n",
       "      <th>20</th>\n",
       "      <th>...</th>\n",
       "      <th>452</th>\n",
       "      <th>463</th>\n",
       "      <th>2522</th>\n",
       "      <th>991</th>\n",
       "      <th>485</th>\n",
       "      <th>1000</th>\n",
       "      <th>5096</th>\n",
       "      <th>1532</th>\n",
       "      <th>509</th>\n",
       "      <th>511</th>\n",
       "    </tr>\n",
       "  </thead>\n",
       "  <tbody>\n",
       "    <tr>\n",
       "      <th>76</th>\n",
       "      <td>1765120</td>\n",
       "      <td>0</td>\n",
       "      <td>0</td>\n",
       "      <td>0</td>\n",
       "      <td>4115068</td>\n",
       "      <td>0</td>\n",
       "      <td>0</td>\n",
       "      <td>0</td>\n",
       "      <td>6366688</td>\n",
       "      <td>0</td>\n",
       "      <td>...</td>\n",
       "      <td>0</td>\n",
       "      <td>466089</td>\n",
       "      <td>0</td>\n",
       "      <td>0</td>\n",
       "      <td>0</td>\n",
       "      <td>0</td>\n",
       "      <td>0</td>\n",
       "      <td>0</td>\n",
       "      <td>0</td>\n",
       "      <td>0</td>\n",
       "    </tr>\n",
       "    <tr>\n",
       "      <th>6294</th>\n",
       "      <td>1540185</td>\n",
       "      <td>0</td>\n",
       "      <td>0</td>\n",
       "      <td>0</td>\n",
       "      <td>0</td>\n",
       "      <td>0</td>\n",
       "      <td>0</td>\n",
       "      <td>0</td>\n",
       "      <td>27787813</td>\n",
       "      <td>0</td>\n",
       "      <td>...</td>\n",
       "      <td>0</td>\n",
       "      <td>3075672</td>\n",
       "      <td>0</td>\n",
       "      <td>0</td>\n",
       "      <td>0</td>\n",
       "      <td>0</td>\n",
       "      <td>0</td>\n",
       "      <td>0</td>\n",
       "      <td>0</td>\n",
       "      <td>0</td>\n",
       "    </tr>\n",
       "  </tbody>\n",
       "</table>\n",
       "<p>2 rows × 155 columns</p>\n",
       "</div>"
      ],
      "text/plain": [
       "         512   1026  5125  1037     1038  527   17    3602      19    20    \\\n",
       "76    1765120     0     0     0  4115068     0     0     0   6366688     0   \n",
       "6294  1540185     0     0     0        0     0     0     0  27787813     0   \n",
       "\n",
       "      ...  452      463   2522  991   485   1000  5096  1532  509   511   \n",
       "76    ...     0   466089     0     0     0     0     0     0     0     0  \n",
       "6294  ...     0  3075672     0     0     0     0     0     0     0     0  \n",
       "\n",
       "[2 rows x 155 columns]"
      ]
     },
     "execution_count": 109,
     "metadata": {},
     "output_type": "execute_result"
    }
   ],
   "source": [
    "tmp_df"
   ]
  },
  {
   "cell_type": "code",
   "execution_count": 111,
   "metadata": {},
   "outputs": [
    {
     "data": {
      "text/plain": [
       "512      True\n",
       "1026    False\n",
       "5125    False\n",
       "1037    False\n",
       "1038     True\n",
       "        ...  \n",
       "1000    False\n",
       "5096    False\n",
       "1532    False\n",
       "509     False\n",
       "511     False\n",
       "Length: 155, dtype: bool"
      ]
     },
     "execution_count": 111,
     "metadata": {},
     "output_type": "execute_result"
    }
   ],
   "source": [
    "tmp_df1 = (tmp_df != 0).any()\n",
    "tmp_df1"
   ]
  },
  {
   "cell_type": "code",
   "execution_count": 104,
   "metadata": {},
   "outputs": [
    {
     "data": {
      "text/plain": [
       "'academic degree'"
      ]
     },
     "execution_count": 104,
     "metadata": {},
     "output_type": "execute_result"
    }
   ],
   "source": [
    "prop2name(512)"
   ]
  },
  {
   "cell_type": "code",
   "execution_count": 105,
   "metadata": {},
   "outputs": [
    {
     "data": {
      "text/plain": [
       "'Juris Doctor'"
      ]
     },
     "execution_count": 105,
     "metadata": {},
     "output_type": "execute_result"
    }
   ],
   "source": [
    "item2name(1540185)"
   ]
  },
  {
   "cell_type": "code",
   "execution_count": 106,
   "metadata": {},
   "outputs": [
    {
     "data": {
      "text/plain": [
       "'Bachelor of Arts'"
      ]
     },
     "execution_count": 106,
     "metadata": {},
     "output_type": "execute_result"
    }
   ],
   "source": [
    "item2name(1765120)"
   ]
  },
  {
   "cell_type": "code",
   "execution_count": 113,
   "metadata": {},
   "outputs": [
    {
     "data": {
      "text/html": [
       "<div>\n",
       "<style scoped>\n",
       "    .dataframe tbody tr th:only-of-type {\n",
       "        vertical-align: middle;\n",
       "    }\n",
       "\n",
       "    .dataframe tbody tr th {\n",
       "        vertical-align: top;\n",
       "    }\n",
       "\n",
       "    .dataframe thead th {\n",
       "        text-align: right;\n",
       "    }\n",
       "</style>\n",
       "<table border=\"1\" class=\"dataframe\">\n",
       "  <thead>\n",
       "    <tr style=\"text-align: right;\">\n",
       "      <th></th>\n",
       "      <th>source_item_id</th>\n",
       "      <th>edge_property_id</th>\n",
       "      <th>target_item_id</th>\n",
       "    </tr>\n",
       "  </thead>\n",
       "  <tbody>\n",
       "    <tr>\n",
       "      <th>0</th>\n",
       "      <td>1</td>\n",
       "      <td>31</td>\n",
       "      <td>36906466</td>\n",
       "    </tr>\n",
       "    <tr>\n",
       "      <th>1</th>\n",
       "      <td>1</td>\n",
       "      <td>279</td>\n",
       "      <td>3695190</td>\n",
       "    </tr>\n",
       "    <tr>\n",
       "      <th>2</th>\n",
       "      <td>1</td>\n",
       "      <td>398</td>\n",
       "      <td>497745</td>\n",
       "    </tr>\n",
       "    <tr>\n",
       "      <th>3</th>\n",
       "      <td>1</td>\n",
       "      <td>398</td>\n",
       "      <td>1133705</td>\n",
       "    </tr>\n",
       "    <tr>\n",
       "      <th>4</th>\n",
       "      <td>1</td>\n",
       "      <td>398</td>\n",
       "      <td>1139177</td>\n",
       "    </tr>\n",
       "  </tbody>\n",
       "</table>\n",
       "</div>"
      ],
      "text/plain": [
       "   source_item_id  edge_property_id  target_item_id\n",
       "0               1                31        36906466\n",
       "1               1               279         3695190\n",
       "2               1               398          497745\n",
       "3               1               398         1133705\n",
       "4               1               398         1139177"
      ]
     },
     "execution_count": 113,
     "metadata": {},
     "output_type": "execute_result"
    }
   ],
   "source": [
    "df_statement.head()"
   ]
  },
  {
   "cell_type": "code",
   "execution_count": 115,
   "metadata": {},
   "outputs": [
    {
     "data": {
      "text/html": [
       "<div>\n",
       "<style scoped>\n",
       "    .dataframe tbody tr th:only-of-type {\n",
       "        vertical-align: middle;\n",
       "    }\n",
       "\n",
       "    .dataframe tbody tr th {\n",
       "        vertical-align: top;\n",
       "    }\n",
       "\n",
       "    .dataframe thead th {\n",
       "        text-align: right;\n",
       "    }\n",
       "</style>\n",
       "<table border=\"1\" class=\"dataframe\">\n",
       "  <thead>\n",
       "    <tr style=\"text-align: right;\">\n",
       "      <th></th>\n",
       "      <th>item_id</th>\n",
       "      <th>en_label</th>\n",
       "      <th>en_description</th>\n",
       "    </tr>\n",
       "  </thead>\n",
       "  <tbody>\n",
       "    <tr>\n",
       "      <th>166727</th>\n",
       "      <td>178848</td>\n",
       "      <td>University of Notre Dame</td>\n",
       "      <td>Catholic university in South Bend, Indiana, Un...</td>\n",
       "    </tr>\n",
       "    <tr>\n",
       "      <th>8441230</th>\n",
       "      <td>12778083</td>\n",
       "      <td>University of Notre Dame</td>\n",
       "      <td>Wikimedia disambiguation page</td>\n",
       "    </tr>\n",
       "  </tbody>\n",
       "</table>\n",
       "</div>"
      ],
      "text/plain": [
       "          item_id                  en_label  \\\n",
       "166727     178848  University of Notre Dame   \n",
       "8441230  12778083  University of Notre Dame   \n",
       "\n",
       "                                            en_description  \n",
       "166727   Catholic university in South Bend, Indiana, Un...  \n",
       "8441230                      Wikimedia disambiguation page  "
      ]
     },
     "execution_count": 115,
     "metadata": {},
     "output_type": "execute_result"
    }
   ],
   "source": [
    "df_item.loc[df_item[\"en_label\"] == \"University of Notre Dame\"]"
   ]
  },
  {
   "cell_type": "markdown",
   "metadata": {},
   "source": [
    "Take a look at statements of \"University of Notre Dame\""
   ]
  },
  {
   "cell_type": "code",
   "execution_count": 127,
   "metadata": {},
   "outputs": [
    {
     "name": "stdout",
     "output_type": "stream",
     "text": [
      "17 30 country United States of America\n",
      "31 902104 instance of private university\n",
      "31 23002054 instance of private not-for-profit educational institution\n",
      "112 2281954 founded by Edward Sorin\n",
      "131 746071 located in the administrative territorial entity Notre Dame\n",
      "140 9592 religion Catholic Church\n",
      "355 45132619 subsidiary Kroc Institute for International Peace Studies,...\n",
      "355 45135964 subsidiary Helen Kellogg Institute for International Studi...\n",
      "355 55830228 subsidiary Institute for Structure and Nuclear Astrophysics\n",
      "463 647039 member of Scholarly Publishing and Academic Resources Coa...\n",
      "463 756355 member of Atlantic Coast Conference\n",
      "463 4810036 member of Association of Research Libraries\n",
      "463 5059850 member of Center for Research Libraries\n",
      "463 5275906 member of Digital Library Federation\n",
      "463 19861084 member of ORCID, Inc.\n",
      "463 35677307 member of IIIF Consortium\n",
      "488 6240609 chairperson John I. Jenkins\n",
      "641 41323 sport American football\n",
      "822 7063459 mascot Notre Dame Leprechaun\n",
      "910 10085790 topic's main category Category:University of Notre Dame\n",
      "1830 847043 owner of Notre Dame Stadium\n",
      "1830 5157157 owner of Compton Family Ice Arena\n",
      "1830 6735900 owner of Main Administration Building\n",
      "1830 7063475 owner of Notre Dame School of Architecture\n",
      "1830 7955792 owner of WSND-FM\n",
      "1830 29640452 owner of LaFortune Student Center\n",
      "2643 23334765 Carnegie Classification of Institutions of High... doctoral university: highest research activity\n",
      "2643 23622831 Carnegie Classification of Institutions of High... four-year, large, highly residential\n",
      "2643 23623487 Carnegie Classification of Institutions of High... majority undergraduate\n",
      "2643 23662432 Carnegie Classification of Institutions of High... four-year, full-time, more selective, lower tra...\n",
      "2643 23662487 Carnegie Classification of Institutions of High... research doctoral: comprehensive programs, no m...\n",
      "2643 23662768 Carnegie Classification of Institutions of High... balanced arts & sciences/professions, high grad...\n",
      "3876 8884100 category for alumni of educational institution Category:University of Notre Dame alumni\n",
      "4195 8884105 category for employees of the organization Category:University of Notre Dame faculty\n"
     ]
    }
   ],
   "source": [
    "df_nd = df_statement.loc[df_statement[\"source_item_id\"]==178848]\n",
    "for idx, row in df_nd.iterrows():\n",
    "    print(row[\"edge_property_id\"], row[\"target_item_id\"], prop2name(row[\"edge_property_id\"]), item2name(row[\"target_item_id\"]))"
   ]
  },
  {
   "cell_type": "markdown",
   "metadata": {},
   "source": [
    "Now we know about \"31 902104 instance of private university\". Let's take a look at \"University of Michigan\""
   ]
  },
  {
   "cell_type": "code",
   "execution_count": 128,
   "metadata": {},
   "outputs": [
    {
     "data": {
      "text/html": [
       "<div>\n",
       "<style scoped>\n",
       "    .dataframe tbody tr th:only-of-type {\n",
       "        vertical-align: middle;\n",
       "    }\n",
       "\n",
       "    .dataframe tbody tr th {\n",
       "        vertical-align: top;\n",
       "    }\n",
       "\n",
       "    .dataframe thead th {\n",
       "        text-align: right;\n",
       "    }\n",
       "</style>\n",
       "<table border=\"1\" class=\"dataframe\">\n",
       "  <thead>\n",
       "    <tr style=\"text-align: right;\">\n",
       "      <th></th>\n",
       "      <th>item_id</th>\n",
       "      <th>en_label</th>\n",
       "      <th>en_description</th>\n",
       "    </tr>\n",
       "  </thead>\n",
       "  <tbody>\n",
       "    <tr>\n",
       "      <th>207831</th>\n",
       "      <td>230492</td>\n",
       "      <td>University of Michigan</td>\n",
       "      <td>public research university in Ann Arbor, Michi...</td>\n",
       "    </tr>\n",
       "    <tr>\n",
       "      <th>13729669</th>\n",
       "      <td>20670914</td>\n",
       "      <td>University of Michigan</td>\n",
       "      <td>painting by Jasper Francis Cropsey</td>\n",
       "    </tr>\n",
       "  </tbody>\n",
       "</table>\n",
       "</div>"
      ],
      "text/plain": [
       "           item_id                en_label  \\\n",
       "207831      230492  University of Michigan   \n",
       "13729669  20670914  University of Michigan   \n",
       "\n",
       "                                             en_description  \n",
       "207831    public research university in Ann Arbor, Michi...  \n",
       "13729669                 painting by Jasper Francis Cropsey  "
      ]
     },
     "execution_count": 128,
     "metadata": {},
     "output_type": "execute_result"
    }
   ],
   "source": [
    "df_item.loc[df_item[\"en_label\"] == \"University of Michigan\"]"
   ]
  },
  {
   "cell_type": "code",
   "execution_count": 129,
   "metadata": {},
   "outputs": [
    {
     "name": "stdout",
     "output_type": "stream",
     "text": [
      "17 30 country United States of America\n",
      "31 23002039 instance of public educational institution of the United St...\n",
      "31 62078547 instance of public research university\n",
      "112 1489605 founded by Gabriel Richard\n",
      "131 485172 located in the administrative territorial entity Ann Arbor\n",
      "159 485172 headquarters location Ann Arbor\n",
      "355 911830 subsidiary University of Michigan Law School\n",
      "355 3304503 subsidiary University of Michigan College of Engineering\n",
      "355 7895753 subsidiary University of Michigan College of Literature, S...\n",
      "355 7895755 subsidiary University of Michigan College of Pharmacy\n",
      "355 7895759 subsidiary University of Michigan Herbarium\n",
      "355 7895772 subsidiary University of Michigan School of Dentistry\n",
      "355 7895773 subsidiary University of Michigan School of Information\n",
      "355 7895775 subsidiary University of Michigan School of Music, Theatre...\n",
      "355 7895776 subsidiary University of Michigan School of Natural Resour...\n",
      "355 7895778 subsidiary University of Michigan School of Public Health\n",
      "355 16902376 subsidiary University of Michigan School of Social Work\n",
      "355 20725458 subsidiary University of Michigan Medical School\n",
      "355 30264263 subsidiary Michigan Sea Grant\n",
      "355 30264514 subsidiary Michigan Space Grant Consortium\n",
      "355 45131728 subsidiary Frankel Center for Judaic Studies, University o...\n",
      "355 45135144 subsidiary Biomedical Engineering Department, University o...\n",
      "355 45135154 subsidiary Bone and Joint Injury Prevention and Rehabilita...\n",
      "355 45136651 subsidiary Institute for Research on Women and Gender, Uni...\n",
      "355 45137591 subsidiary National Center for Institutional Diversity, Un...\n",
      "355 67211846 subsidiary Institute for Social Research\n",
      "421 941023 located in time zone Eastern Time Zone\n",
      "463 37033 member of World Wide Web Consortium\n",
      "463 5059850 member of Center for Research Libraries\n",
      "463 5275906 member of Digital Library Federation\n",
      "463 19861084 member of ORCID, Inc.\n",
      "463 35677307 member of IIIF Consortium\n",
      "527 4352982 has part University of Michigan Solar Car Team\n",
      "793 541394 significant event mixed-sex education\n",
      "910 8803757 topic's main category Category:University of Michigan\n",
      "1344 3944788 participant of Event Horizon Telescope\n",
      "1830 1640118 owner of Michigan Stadium\n",
      "1830 3091213 owner of Crisler Center\n",
      "1830 4762805 owner of Angell Hall\n",
      "1830 5000625 owner of Bursley Hall\n",
      "1830 5445483 owner of Ferry Field\n",
      "1830 6789786 owner of Matthaei Botanical Gardens\n",
      "1830 7026551 owner of Nichols Arboretum\n",
      "1830 7297478 owner of Ray Fisher Stadium\n",
      "1830 7751250 owner of The Michigan Daily\n",
      "1830 7947631 owner of WCBN-FM\n",
      "1830 7951235 owner of WJJX\n",
      "1830 7956639 owner of WUOM\n",
      "1830 7956823 owner of WVGR\n",
      "1830 8056385 owner of Yost Ice Arena\n",
      "1830 16974093 owner of Michigan Radio\n",
      "1830 16980327 owner of Monroe Street Journal\n",
      "1830 20710037 owner of Waterman Gymnasium\n",
      "2643 23334765 Carnegie Classification of Institutions of High... doctoral university: highest research activity\n",
      "2643 23622771 Carnegie Classification of Institutions of High... four-year, large, primarily residential\n",
      "2643 23623487 Carnegie Classification of Institutions of High... majority undergraduate\n",
      "2643 23662432 Carnegie Classification of Institutions of High... four-year, full-time, more selective, lower tra...\n",
      "2643 23662486 Carnegie Classification of Institutions of High... research doctoral: comprehensive programs, with...\n",
      "2643 23662760 Carnegie Classification of Institutions of High... arts & sciences plus professions, high graduate...\n",
      "3876 7003345 category for alumni of educational institution Category:University of Michigan alumni\n",
      "4195 6376483 category for employees of the organization Category:University of Michigan faculty\n"
     ]
    }
   ],
   "source": [
    "for idx, row in df_statement.loc[df_statement[\"source_item_id\"]==230492].iterrows():\n",
    "    print(row[\"edge_property_id\"], row[\"target_item_id\"], prop2name(row[\"edge_property_id\"]), item2name(row[\"target_item_id\"]))"
   ]
  },
  {
   "cell_type": "code",
   "execution_count": 136,
   "metadata": {},
   "outputs": [],
   "source": [
    "property_uni = df_item.loc[df_item[\"en_label\"].str.contains(\"university\", na=False)][\"item_id\"]"
   ]
  },
  {
   "cell_type": "code",
   "execution_count": 143,
   "metadata": {},
   "outputs": [
    {
     "data": {
      "text/plain": [
       "9490"
      ]
     },
     "execution_count": 143,
     "metadata": {},
     "output_type": "execute_result"
    }
   ],
   "source": [
    "len(property_uni)"
   ]
  },
  {
   "cell_type": "code",
   "execution_count": 141,
   "metadata": {},
   "outputs": [],
   "source": [
    "dist_uni = Counter(df_statement.loc[(df_statement[\"target_item_id\"].isin(property_uni))][\"target_item_id\"])"
   ]
  },
  {
   "cell_type": "code",
   "execution_count": 142,
   "metadata": {},
   "outputs": [
    {
     "name": "stdout",
     "output_type": "stream",
     "text": [
      "university teacher 1622272 31676\n",
      "university 3918 13902\n",
      "private university 902104 911\n",
      "public university 875538 850\n",
      "university and college sports club 2367225 593\n",
      "university of applied sciences 1365560 352\n",
      "university building 19844914 304\n",
      "university hospital 1059324 269\n",
      "university press 479716 240\n",
      "university-preparatory school 428602 187\n",
      "public research university 62078547 138\n",
      "university museum 866133 122\n",
      "doctoral university: highest research activity 23334765 115\n",
      "land-grant university 615150 109\n",
      "doctoral university: higher research activity 23334891 104\n",
      "doctoral university: moderate research activity 23334993 99\n",
      "research university 15936437 91\n",
      "university in France 3551775 83\n",
      "national university 265662 79\n",
      "university college 7894996 70\n",
      "Catholic university 557206 61\n",
      "state university system 1075106 49\n",
      "college and university rankings 847843 48\n",
      "pontifical university 2120466 40\n",
      "university college 15407956 36\n",
      "Alborz university of medical sciences 5940463 36\n",
      "Ural state university of physical culture 4476757 35\n",
      "university president 4376769 32\n",
      "vocational university 17028020 28\n",
      "Moscow university boarding school 4304309 25\n"
     ]
    }
   ],
   "source": [
    "for k,v in dist_uni.most_common(30):\n",
    "    print(item2name(k), k, v)"
   ]
  },
  {
   "cell_type": "markdown",
   "metadata": {},
   "source": [
    "university 3918 13902\n",
    "\n",
    "private university 902104 911\n",
    "\n",
    "public university 875538 850"
   ]
  },
  {
   "cell_type": "code",
   "execution_count": 145,
   "metadata": {},
   "outputs": [],
   "source": [
    "items_uni = df_statement.loc[(df_statement[\"edge_property_id\"]==31) & (df_statement[\"target_item_id\"].isin([3918, 902104, 875538]))][\"source_item_id\"]"
   ]
  },
  {
   "cell_type": "code",
   "execution_count": 146,
   "metadata": {},
   "outputs": [],
   "source": [
    "statement_uni = df_statement.loc[df_statement[\"source_item_id\"].isin(items_uni)]"
   ]
  },
  {
   "cell_type": "code",
   "execution_count": 147,
   "metadata": {},
   "outputs": [
    {
     "data": {
      "text/html": [
       "<div>\n",
       "<style scoped>\n",
       "    .dataframe tbody tr th:only-of-type {\n",
       "        vertical-align: middle;\n",
       "    }\n",
       "\n",
       "    .dataframe tbody tr th {\n",
       "        vertical-align: top;\n",
       "    }\n",
       "\n",
       "    .dataframe thead th {\n",
       "        text-align: right;\n",
       "    }\n",
       "</style>\n",
       "<table border=\"1\" class=\"dataframe\">\n",
       "  <thead>\n",
       "    <tr style=\"text-align: right;\">\n",
       "      <th></th>\n",
       "      <th>source_item_id</th>\n",
       "      <th>edge_property_id</th>\n",
       "      <th>target_item_id</th>\n",
       "    </tr>\n",
       "  </thead>\n",
       "  <tbody>\n",
       "    <tr>\n",
       "      <th>38883</th>\n",
       "      <td>681</td>\n",
       "      <td>17</td>\n",
       "      <td>36</td>\n",
       "    </tr>\n",
       "    <tr>\n",
       "      <th>38884</th>\n",
       "      <td>681</td>\n",
       "      <td>31</td>\n",
       "      <td>875538</td>\n",
       "    </tr>\n",
       "    <tr>\n",
       "      <th>38885</th>\n",
       "      <td>681</td>\n",
       "      <td>31</td>\n",
       "      <td>45400320</td>\n",
       "    </tr>\n",
       "    <tr>\n",
       "      <th>38886</th>\n",
       "      <td>681</td>\n",
       "      <td>131</td>\n",
       "      <td>1280107</td>\n",
       "    </tr>\n",
       "    <tr>\n",
       "      <th>38887</th>\n",
       "      <td>681</td>\n",
       "      <td>463</td>\n",
       "      <td>868940</td>\n",
       "    </tr>\n",
       "    <tr>\n",
       "      <th>...</th>\n",
       "      <td>...</td>\n",
       "      <td>...</td>\n",
       "      <td>...</td>\n",
       "    </tr>\n",
       "    <tr>\n",
       "      <th>140543467</th>\n",
       "      <td>76737841</td>\n",
       "      <td>17</td>\n",
       "      <td>1029</td>\n",
       "    </tr>\n",
       "    <tr>\n",
       "      <th>140543468</th>\n",
       "      <td>76737841</td>\n",
       "      <td>31</td>\n",
       "      <td>875538</td>\n",
       "    </tr>\n",
       "    <tr>\n",
       "      <th>140665362</th>\n",
       "      <td>76822227</td>\n",
       "      <td>17</td>\n",
       "      <td>1049</td>\n",
       "    </tr>\n",
       "    <tr>\n",
       "      <th>140665363</th>\n",
       "      <td>76822227</td>\n",
       "      <td>31</td>\n",
       "      <td>3918</td>\n",
       "    </tr>\n",
       "    <tr>\n",
       "      <th>140665364</th>\n",
       "      <td>76822227</td>\n",
       "      <td>131</td>\n",
       "      <td>180921</td>\n",
       "    </tr>\n",
       "  </tbody>\n",
       "</table>\n",
       "<p>79734 rows × 3 columns</p>\n",
       "</div>"
      ],
      "text/plain": [
       "           source_item_id  edge_property_id  target_item_id\n",
       "38883                 681                17              36\n",
       "38884                 681                31          875538\n",
       "38885                 681                31        45400320\n",
       "38886                 681               131         1280107\n",
       "38887                 681               463          868940\n",
       "...                   ...               ...             ...\n",
       "140543467        76737841                17            1029\n",
       "140543468        76737841                31          875538\n",
       "140665362        76822227                17            1049\n",
       "140665363        76822227                31            3918\n",
       "140665364        76822227               131          180921\n",
       "\n",
       "[79734 rows x 3 columns]"
      ]
     },
     "execution_count": 147,
     "metadata": {},
     "output_type": "execute_result"
    }
   ],
   "source": [
    "statement_uni"
   ]
  },
  {
   "cell_type": "markdown",
   "metadata": {},
   "source": [
    "Next: \n",
    "- save the filtered statement.csv and the item.csv\n",
    "- match Wikipedia id from item_id to page_id in page.csv\n",
    "- get Wikipedia passages by page_id and save them"
   ]
  },
  {
   "cell_type": "markdown",
   "metadata": {},
   "source": []
  }
 ],
 "metadata": {
  "interpreter": {
   "hash": "e9e61f8d546329b383339a5a7c490bb93f3c20f31eab98313765141e23006966"
  },
  "kernelspec": {
   "display_name": "Python 3.7.11 ('bert')",
   "language": "python",
   "name": "python3"
  },
  "language_info": {
   "codemirror_mode": {
    "name": "ipython",
    "version": 3
   },
   "file_extension": ".py",
   "mimetype": "text/x-python",
   "name": "python",
   "nbconvert_exporter": "python",
   "pygments_lexer": "ipython3",
   "version": "3.7.11"
  },
  "orig_nbformat": 4
 },
 "nbformat": 4,
 "nbformat_minor": 2
}
