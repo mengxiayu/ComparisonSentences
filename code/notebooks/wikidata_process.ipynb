{
 "cells": [
  {
   "cell_type": "markdown",
   "metadata": {},
   "source": []
  },
  {
   "cell_type": "code",
   "execution_count": 3,
   "metadata": {},
   "outputs": [],
   "source": [
    "target = \"Q22686\""
   ]
  },
  {
   "cell_type": "code",
   "execution_count": 5,
   "metadata": {},
   "outputs": [
    {
     "name": "stdout",
     "output_type": "stream",
     "text": [
      "              label     qid\n",
      "69280  Donald Trump  Q22686\n"
     ]
    }
   ],
   "source": [
    "import pandas as pd\n",
    "import os\n",
    "path = \"/Users/mengxiayu/Documents/Research/WIKIPEDIA/wikidata/labels/\"\n",
    "dir_list = os.listdir(path)\n",
    "for batch_file in dir_list:\n",
    "\n",
    "    df = pd.read_csv(path+batch_file, sep='\\t', header=0)\n",
    "    # print(df.head())\n",
    "    record = df.loc[df[\"qid\"] == target]\n",
    "    if len(record) > 0:\n",
    "\n",
    "        print(record)\n"
   ]
  },
  {
   "cell_type": "markdown",
   "metadata": {},
   "source": []
  },
  {
   "cell_type": "code",
   "execution_count": 8,
   "metadata": {},
   "outputs": [],
   "source": [
    "import pandas as pd\n",
    "import os\n",
    "path = \"/afs/crc.nd.edu/group/dmsquare/vol1/data/WIKIPEDIA/wikidata/entity_values/33.tsv\"\n",
    "df = pd.read_csv(path, header=0, delimiter='\\t', on_bad_lines='warn', quoting=3)\n",
    "# with open(path, 'r') as f:\n",
    "#     for line in f:\n",
    "#         arr = line.strip().split('\\t')\n",
    "#         assert len(arr) == 4"
   ]
  },
  {
   "cell_type": "code",
   "execution_count": 42,
   "metadata": {},
   "outputs": [],
   "source": [
    "def search_properties(property_list):\n",
    "    results = []\n",
    "    df = pd.read_csv(\"/afs/crc.nd.edu/group/dmsquare/vol1/data/WIKIPEDIA/wikidata/property_labels/0.tsv\", sep='\\t')\n",
    "    for p in property_list:\n",
    "        record = df.loc[df[\"pid\"] == p]\n",
    "        results.append(record.to_string().strip().split('\\n'))\n",
    "    return results\n",
    "    "
   ]
  },
  {
   "cell_type": "code",
   "execution_count": 1,
   "metadata": {},
   "outputs": [],
   "source": [
    "import json\n",
    "import pandas as pd\n",
    "\n",
    "data_path = \"/afs/crc.nd.edu/group/dmsquare/vol2/myu2/ComparisonSentences/data/wikidata/tables/entity_values/university.tsv\"\n",
    "\n",
    "df = pd.read_csv(data_path, sep='\\t')\n",
    "\n"
   ]
  },
  {
   "cell_type": "code",
   "execution_count": 12,
   "metadata": {},
   "outputs": [],
   "source": [
    "from collections import Counter\n",
    "\n",
    "cnt = Counter(list(df[\"property_id\"]))"
   ]
  },
  {
   "cell_type": "code",
   "execution_count": 21,
   "metadata": {},
   "outputs": [
    {
     "name": "stdout",
     "output_type": "stream",
     "text": [
      "P856 12741\n",
      "P571 12662\n",
      "P8687 5840\n",
      "P373 4452\n",
      "P2196 2575\n",
      "P1128 1563\n",
      "P281 1514\n",
      "P6375 1219\n",
      "P6269 1053\n",
      "P5822 892\n"
     ]
    }
   ],
   "source": [
    "for k,v in cnt.most_common(10):\n",
    "    print(k, v)"
   ]
  },
  {
   "cell_type": "code",
   "execution_count": 44,
   "metadata": {},
   "outputs": [
    {
     "data": {
      "text/plain": [
       "[['label   pid', '2434  official website  P856'],\n",
       " ['label   pid', '3601  inception  P571'],\n",
       " ['label    pid', '990  social media followers  P8687'],\n",
       " ['label   pid', '7131  Commons category  P373'],\n",
       " ['label    pid', '7337  students count  P2196'],\n",
       " ['label    pid', '2469  employees  P1128'],\n",
       " ['label   pid', '1195  postal code  P281'],\n",
       " ['label    pid', '9046  street address  P6375'],\n",
       " ['label    pid', '7820  API endpoint  P6269'],\n",
       " ['label    pid', '650  admission rate  P5822'],\n",
       " ['label    pid', '6296  IPv4 routing prefix  P3761'],\n",
       " ['label    pid', '8754  IPv6 routing prefix  P3793'],\n",
       " ['label    pid', '6005  phone number  P1329'],\n",
       " ['label   pid', '1221  start time  P580'],\n",
       " ['label    pid', '237  total assets  P2403'],\n",
       " ['label    pid', '1922  endowment  P6589'],\n",
       " ['label    pid', '1331  official name  P1448'],\n",
       " ['label   pid', '2452  email address  P968'],\n",
       " ['label   pid', '8376  dissolved, abolished or demolished date  P576'],\n",
       " ['label    pid', '3683  motto text  P1451']]"
      ]
     },
     "execution_count": 44,
     "metadata": {},
     "output_type": "execute_result"
    }
   ],
   "source": [
    "property_list = [k for k,v in cnt.most_common(20)]\n",
    "prop_labels = search_properties(property_list)\n",
    "prop_labels"
   ]
  },
  {
   "cell_type": "code",
   "execution_count": 41,
   "metadata": {},
   "outputs": [
    {
     "data": {
      "text/plain": [
       "['label   pid', '2434  official website  P856']"
      ]
     },
     "execution_count": 41,
     "metadata": {},
     "output_type": "execute_result"
    }
   ],
   "source": [
    "prop_labels[0].to_string().strip().split('\\n')"
   ]
  },
  {
   "cell_type": "code",
   "execution_count": 45,
   "metadata": {},
   "outputs": [
    {
     "data": {
      "text/html": [
       "<div>\n",
       "<style scoped>\n",
       "    .dataframe tbody tr th:only-of-type {\n",
       "        vertical-align: middle;\n",
       "    }\n",
       "\n",
       "    .dataframe tbody tr th {\n",
       "        vertical-align: top;\n",
       "    }\n",
       "\n",
       "    .dataframe thead th {\n",
       "        text-align: right;\n",
       "    }\n",
       "</style>\n",
       "<table border=\"1\" class=\"dataframe\">\n",
       "  <thead>\n",
       "    <tr style=\"text-align: right;\">\n",
       "      <th></th>\n",
       "      <th>Unnamed: 0</th>\n",
       "      <th>claim_id</th>\n",
       "      <th>property_id</th>\n",
       "      <th>qid</th>\n",
       "      <th>value</th>\n",
       "    </tr>\n",
       "  </thead>\n",
       "  <tbody>\n",
       "    <tr>\n",
       "      <th>37</th>\n",
       "      <td>21587</td>\n",
       "      <td>Q466664$56c953d4-aaa3-4cfb-8495-cbefa9fd9719</td>\n",
       "      <td>P8687</td>\n",
       "      <td>Q466664</td>\n",
       "      <td>+1613</td>\n",
       "    </tr>\n",
       "    <tr>\n",
       "      <th>40</th>\n",
       "      <td>21876</td>\n",
       "      <td>Q467144$d39b7058-2fd7-45cb-932f-9c456db70c2e</td>\n",
       "      <td>P8687</td>\n",
       "      <td>Q467144</td>\n",
       "      <td>+8667</td>\n",
       "    </tr>\n",
       "    <tr>\n",
       "      <th>45</th>\n",
       "      <td>22738</td>\n",
       "      <td>Q469476$ab63a52f-2a78-4ae2-a120-ba4624b3c72c</td>\n",
       "      <td>P8687</td>\n",
       "      <td>Q469476</td>\n",
       "      <td>+31011</td>\n",
       "    </tr>\n",
       "    <tr>\n",
       "      <th>66</th>\n",
       "      <td>29460</td>\n",
       "      <td>Q482759$350f7e0b-8d62-4c83-8f15-d3c3db91bf31</td>\n",
       "      <td>P8687</td>\n",
       "      <td>Q482759</td>\n",
       "      <td>+4372</td>\n",
       "    </tr>\n",
       "    <tr>\n",
       "      <th>83</th>\n",
       "      <td>36137</td>\n",
       "      <td>Q492442$037c0bca-0b51-45e4-bed1-67c0c1c2f433</td>\n",
       "      <td>P8687</td>\n",
       "      <td>Q492442</td>\n",
       "      <td>+34600</td>\n",
       "    </tr>\n",
       "    <tr>\n",
       "      <th>...</th>\n",
       "      <td>...</td>\n",
       "      <td>...</td>\n",
       "      <td>...</td>\n",
       "      <td>...</td>\n",
       "      <td>...</td>\n",
       "    </tr>\n",
       "    <tr>\n",
       "      <th>51262</th>\n",
       "      <td>5889993</td>\n",
       "      <td>Q55662198$17446a9c-09b4-49e6-b68a-6d569e34c53a</td>\n",
       "      <td>P8687</td>\n",
       "      <td>Q55662198</td>\n",
       "      <td>+1659</td>\n",
       "    </tr>\n",
       "    <tr>\n",
       "      <th>51285</th>\n",
       "      <td>979060</td>\n",
       "      <td>Q38806524$4ed05d84-6417-44fb-ba9a-c48cd37c17b7</td>\n",
       "      <td>P8687</td>\n",
       "      <td>Q38806524</td>\n",
       "      <td>+12226</td>\n",
       "    </tr>\n",
       "    <tr>\n",
       "      <th>51286</th>\n",
       "      <td>979061</td>\n",
       "      <td>Q38806524$f29c18f0-b08b-4450-b3ff-36f4f29672d7</td>\n",
       "      <td>P8687</td>\n",
       "      <td>Q38806524</td>\n",
       "      <td>+11400</td>\n",
       "    </tr>\n",
       "    <tr>\n",
       "      <th>51319</th>\n",
       "      <td>87088</td>\n",
       "      <td>Q69458530$c2c52e78-2cb8-4099-ac49-5ecdced7150e</td>\n",
       "      <td>P8687</td>\n",
       "      <td>Q69458530</td>\n",
       "      <td>+1639</td>\n",
       "    </tr>\n",
       "    <tr>\n",
       "      <th>51320</th>\n",
       "      <td>87089</td>\n",
       "      <td>Q69458530$89fe398b-f473-4f85-ab97-fe6fe7f5acc3</td>\n",
       "      <td>P8687</td>\n",
       "      <td>Q69458530</td>\n",
       "      <td>+1496</td>\n",
       "    </tr>\n",
       "  </tbody>\n",
       "</table>\n",
       "<p>5840 rows × 5 columns</p>\n",
       "</div>"
      ],
      "text/plain": [
       "       Unnamed: 0                                        claim_id property_id  \\\n",
       "37          21587    Q466664$56c953d4-aaa3-4cfb-8495-cbefa9fd9719       P8687   \n",
       "40          21876    Q467144$d39b7058-2fd7-45cb-932f-9c456db70c2e       P8687   \n",
       "45          22738    Q469476$ab63a52f-2a78-4ae2-a120-ba4624b3c72c       P8687   \n",
       "66          29460    Q482759$350f7e0b-8d62-4c83-8f15-d3c3db91bf31       P8687   \n",
       "83          36137    Q492442$037c0bca-0b51-45e4-bed1-67c0c1c2f433       P8687   \n",
       "...           ...                                             ...         ...   \n",
       "51262     5889993  Q55662198$17446a9c-09b4-49e6-b68a-6d569e34c53a       P8687   \n",
       "51285      979060  Q38806524$4ed05d84-6417-44fb-ba9a-c48cd37c17b7       P8687   \n",
       "51286      979061  Q38806524$f29c18f0-b08b-4450-b3ff-36f4f29672d7       P8687   \n",
       "51319       87088  Q69458530$c2c52e78-2cb8-4099-ac49-5ecdced7150e       P8687   \n",
       "51320       87089  Q69458530$89fe398b-f473-4f85-ab97-fe6fe7f5acc3       P8687   \n",
       "\n",
       "             qid   value  \n",
       "37       Q466664   +1613  \n",
       "40       Q467144   +8667  \n",
       "45       Q469476  +31011  \n",
       "66       Q482759   +4372  \n",
       "83       Q492442  +34600  \n",
       "...          ...     ...  \n",
       "51262  Q55662198   +1659  \n",
       "51285  Q38806524  +12226  \n",
       "51286  Q38806524  +11400  \n",
       "51319  Q69458530   +1639  \n",
       "51320  Q69458530   +1496  \n",
       "\n",
       "[5840 rows x 5 columns]"
      ]
     },
     "execution_count": 45,
     "metadata": {},
     "output_type": "execute_result"
    }
   ],
   "source": [
    "df.loc[df[\"property_id\"] == \"P8687\"]"
   ]
  }
 ],
 "metadata": {
  "kernelspec": {
   "display_name": "Python 3.7.11 ('bert')",
   "language": "python",
   "name": "python3"
  },
  "language_info": {
   "codemirror_mode": {
    "name": "ipython",
    "version": 3
   },
   "file_extension": ".py",
   "mimetype": "text/x-python",
   "name": "python",
   "nbconvert_exporter": "python",
   "pygments_lexer": "ipython3",
   "version": "3.7.11 (default, Jul 27 2021, 14:32:16) \n[GCC 7.5.0]"
  },
  "orig_nbformat": 4,
  "vscode": {
   "interpreter": {
    "hash": "038ac43ff01c31cd641835814f979bd9daf9dcda5104326cfb2cc592d72d42d9"
   }
  }
 },
 "nbformat": 4,
 "nbformat_minor": 2
}
