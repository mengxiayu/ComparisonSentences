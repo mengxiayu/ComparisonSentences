{
 "cells": [
  {
   "cell_type": "code",
   "execution_count": 10,
   "metadata": {},
   "outputs": [],
   "source": [
    "from pathlib import Path\n",
    "import json\n",
    "import os\n",
    "from collections import Counter\n",
    "def _load_property2aliases(path):\n",
    "    # from the property_aliases table\n",
    "    pid2aliases = {}\n",
    "    with open(path, 'r') as f:\n",
    "        header = f.readline()\n",
    "        assert header.strip().split('\\t') == [\"alias\", \"pid\"]\n",
    "        while True:\n",
    "            line = f.readline()\n",
    "            if len(line) == 0:\n",
    "                break\n",
    "            alias, pid = line.strip().split('\\t')\n",
    "            if pid not in pid2aliases:\n",
    "                pid2aliases[pid] = []\n",
    "            pid2aliases[pid].append(alias)\n",
    "    return pid2aliases\n",
    "path_prop_alias = Path(\"/afs/crc.nd.edu/group/dmsquare/vol2/myu2/ComparisonSentences/data/wikidata_processed/property_aliases/0.tsv\")\n",
    "pid2alias = _load_property2aliases(path_prop_alias)"
   ]
  },
  {
   "cell_type": "code",
   "execution_count": 15,
   "metadata": {},
   "outputs": [
    {
     "name": "stdout",
     "output_type": "stream",
     "text": [
      "P31 instance of 3119723\n",
      "P106 occupation 1365062\n",
      "P17 country 1079233\n",
      "P131 located in the administrative territorial entity 869070\n",
      "P21 sex or gender 803184\n",
      "P27 country of citizenship 781332\n",
      "P735 given name 752581\n",
      "P54 member of sports team 730563\n",
      "P19 place of birth 596430\n",
      "P47 shares border with 521227\n"
     ]
    }
   ],
   "source": [
    "\n",
    "'''\n",
    "analyze the distribution of the properties (compare Top K)\n",
    "'''\n",
    "from pathlib import Path\n",
    "import json\n",
    "import os\n",
    "from collections import Counter\n",
    "\n",
    "\n",
    "\n",
    "\n",
    "dir_data = Path(\"/afs/crc.nd.edu/group/dmsquare/vol2/myu2/ComparisonSentences/data/wikipedia/text_data/AA\")\n",
    "\n",
    "cnt_property = Counter()\n",
    "for batch_file in os.listdir(dir_data):\n",
    "    with open(dir_data / batch_file) as f:\n",
    "        for line in f:\n",
    "            obj = json.loads(line)\n",
    "\n",
    "            entity_rels = obj[\"entity_rels\"]\n",
    "            for s in entity_rels:\n",
    "                cnt_property[s.split('\\t')[0]] += 1\n",
    "for k,v in cnt_property.most_common(10):\n",
    "    print(k,pid2alias[k][0], v)\n",
    "            "
   ]
  },
  {
   "cell_type": "code",
   "execution_count": 16,
   "metadata": {},
   "outputs": [
    {
     "name": "stdout",
     "output_type": "stream",
     "text": [
      "P131 located in the administrative territorial entity 622587\n",
      "P31 instance of 432949\n",
      "P361 part of 53642\n",
      "P17 country 46851\n",
      "P276 location 46033\n",
      "P161 cast member 41975\n",
      "P19 place of birth 37809\n",
      "P50 author 34638\n",
      "P57 director 33691\n",
      "P175 performer 25367\n"
     ]
    }
   ],
   "source": [
    "dir_linked = Path(\"/afs/crc.nd.edu/group/dmsquare/vol2/myu2/ComparisonSentences/data/wikipedia/linked_eav/AA\")\n",
    "cnt_property = Counter()\n",
    "for batch_file in os.listdir(dir_linked):\n",
    "    with open(dir_linked / batch_file) as f:\n",
    "        for line in f:\n",
    "            obj = json.loads(line)\n",
    "            for item in obj[\"linked_entity_rels\"]:\n",
    "                for s in item[2]:\n",
    "                    cnt_property[s[0][1]] += 1\n",
    "\n",
    "for k,v in cnt_property.most_common(10):\n",
    "    print(k,pid2alias[k][0], v)\n",
    "            "
   ]
  },
  {
   "cell_type": "code",
   "execution_count": null,
   "metadata": {},
   "outputs": [],
   "source": []
  }
 ],
 "metadata": {
  "kernelspec": {
   "display_name": "Python 3.7.11 ('bert')",
   "language": "python",
   "name": "python3"
  },
  "language_info": {
   "codemirror_mode": {
    "name": "ipython",
    "version": 3
   },
   "file_extension": ".py",
   "mimetype": "text/x-python",
   "name": "python",
   "nbconvert_exporter": "python",
   "pygments_lexer": "ipython3",
   "version": "3.7.11"
  },
  "orig_nbformat": 4,
  "vscode": {
   "interpreter": {
    "hash": "038ac43ff01c31cd641835814f979bd9daf9dcda5104326cfb2cc592d72d42d9"
   }
  }
 },
 "nbformat": 4,
 "nbformat_minor": 2
}
