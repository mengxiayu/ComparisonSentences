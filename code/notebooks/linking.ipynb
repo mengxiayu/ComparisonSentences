{
 "cells": [
  {
   "cell_type": "code",
   "execution_count": 1,
   "metadata": {},
   "outputs": [],
   "source": [
    "import json\n",
    "wikipedia_fn = \"/afs/crc.nd.edu/group/dmsquare/vol2/myu2/ComparisonSentences/data/wikipedia/text/university/tmp.jsonl\"\n",
    "with open(wikipedia_fn, 'r', encoding='utf-8') as f:\n",
    "    obj = json.loads(f.readline().strip())\n"
   ]
  },
  {
   "cell_type": "code",
   "execution_count": null,
   "metadata": {},
   "outputs": [],
   "source": []
  },
  {
   "cell_type": "code",
   "execution_count": 7,
   "metadata": {},
   "outputs": [
    {
     "name": "stdout",
     "output_type": "stream",
     "text": [
      "The University of Salford is a public university in Salford, Greater Manchester, England, west of Manchester city centre. The Royal Technical Institute, Salford, which opened in 1896, became a College of Advanced Technology in 1956 and gained university status in 1967, following the Robbins Report into higher education.\n",
      "It has students and is in of parkland on the banks of the River Irwell.\n",
      "History.\n",
      "Origins of the Royal Technical Institute.\n",
      "The university's origins can be traced to the opening in 1896 of the Royal Technical Institute, Salford, a merger of Salford Working Men's College (founded in 1858) and Pendleton Mechanics' Institute (founded in 1850). The Royal Technical Institute received royal letters after the then-Duke and Duchess of York (later King George V and Queen Mary) officiated at its opening ceremony, an event commemorated in the university's Redbrick Peel Building and which allowed 'Royal' to be appended to the name of the institute.\n",
      "At the start of the 20th century, mechanical engineering, chemical works, textiles and construction dominated the industrial scene in Salford. This heavily influenced the choice of subjects offered in the nine departments initially opened. These were Engineering, Electrical Engineering &amp; Applied Physics, Mathematics, Chemistry, Building, Dyeing, Spinning &amp; Weaving, Domestic, and Art. Some 1,240 students registered for the first session in these departments. There were originally 19 members of staff.\n",
      "In 1921 the Institute was renamed the Royal Technical College, Salford. In 1958 the institution split into two organisations: the remaining Royal Technical College and a breakaway institution, Peel Park Technical College. This changed its name first in 1961 to Salford Technical College, before becoming the Salford College of Technology in 1970, and finally University College Salford in 1992.\n",
      "Royal College of Advanced Technology.\n",
      "The Royal Technical College became a CAT in 1956, and became known as the Royal College of Advanced Technology. In 1963, the government completed an inquiry into the state of higher education in the United Kingdom and produced the Robbins Report, which paved the way for the Royal College of Advanced Technology (and other Colleges of Advanced Technology) to assume university status by Royal Charter.\n",
      "University status.\n",
      "The Royal College of Advanced Technology became the University of Salford on 10 February 1967, when Queen Elizabeth II handed over the institution's Royal Charter. A multistorey chemistry tower was built in the 1960s between the Peel Building and the Salford Library, Museum and Art Gallery, but it was pulled down in the 1980s due to the damage it was causing to the foundations of these nearby buildings. The first Vice-Chancellor was Clifford Whitworth, after whom the university's main library is named. The first Chancellor was Prince Philip, Duke of Edinburgh, who remained the university's chancellor until 1991. Prince Philip took a keen interest in the university whilst in office which has continued since and he visited the university's award-winning acoustics laboratories in 2008. The breakaway University College Salford merged with the University of Salford in 1996, to form a single institution.\n",
      "In 2012, the University of Salford announced a partnership with the UK's biggest arms company, (BAE Systems), and four other universities in northwestern England (Liverpool, Manchester, UCLAN and Lancaster) in order to work on the Gamma Programme, which aims to develop \"autonomous systems\". On 5 September 2016, Salford was represented for the third time on \"University Challenge\" and faced the Open University. The all male team, who sported the poet John Cooper Clarke as a mascot lost 210 to 115 points.\n",
      "Campus and facilities.\n",
      "The main Peel Park campus is less than 1.5 miles (2.4 kilometres) from Manchester city centre on the banks of the River Irwell, adjacent to Peel Park, possibly the first public park in the world, which opened on 22 August 1846. A former president of the Students' Union described Salford in 2007 as \"a relaxed campus close to Manchester, but cheaper and greener.\" Salford Crescent railway station is adjacent to the campus, and high frequency bus services operate to Manchester, Salford and Bolton and Liverpool. There are other university facilities within a mile of the main campus, namely the Frederick Road and Adelphi campuses. Most of the university administration buildings are along Salford Crescent, opposite the Peel Campus. The Salford Museum and Art Gallery, said to be the first unconditionally free public library in England, is located on the Peel Park Campus.\n",
      "MediaCityUK.\n",
      "In October 2010 the university opened a learning, teaching and research space at MediaCityUK. They will study in 39 undergraduate and postgraduate programmes.\n",
      "Major investment projects.\n",
      "The university embarked on a £150 million programme of investment in 2004, to deliver new buildings and carry out major refurbishment projects. These included:\n",
      "In summer 2013 construction work started on the £55 million New Adelphi building. The building opened in September 2016 and houses music, performance, art, design and architecture students. Facilities include a 350 capacity theatre with flexible seating to suit a range of events, 140sqm studio theatre, 2 large TV acting studios, 36 dedicated rehearsal rooms, 6 industry-standard recording studios, 12 amplified performance spaces (music ensemble rooms), 2 dance studios, 3 floors of dedicated wood, metal, textiles, print and plastics workshops, 7 photographic studios, 14 instrumental tuition rooms, a double-height 100 sq m band-room/live room and a suite of flexible performance and studio spaces. It also features a small gallery space.\n",
      "An extension to the existing Newton Building, which houses the School of Computing, Science and Engineering, was awarded planning permission in May 2016. The £16 million project, known as the Engineering Showcase, was due to feature exhibition space to display engineering solutions, research/demonstration spaces, open-plan collaborative learning spaces, informal and formal presentation spaces, a café and 'maker-space'. Plans for the extension were put on hold in favour of a wider campus redesign, with the possibility of a brand new building to house teaching and laboratory facilities for a range of disciplines in Science, Engineering and Environment. An autonomous vehicle research centre was built in place of the proposed extension.\n",
      "Library.\n",
      "The Library was opened in 1971 by Prince Philip, the then Chancellor of the University. It was renamed the Clifford Whitworth Library in 1984 following the death of the University's first Vice-Chancellor, Clifford Whitworth. A two-storey extension was added to the left of the building in the 1990s and was further extended in the 2000s into the top floor of Lady Hale Building via a link bridge. Between 2016–2018 the Clifford Whitworth Library went under a major £6.2 million refurbishment.\n",
      "Facilities.\n",
      "Peel Hall has seating for nearly 400 people, hosts many musical performances and is the main venue for the midday recitals. The hall is housed in the Peel Building, a red brick and terracotta Victorian building on the Peel Park Campus.\n",
      "The university's Robert Powell Theatre, named after the Salford-born actor, mostly stages live performances of modern works and participatory work for younger audiences.\n",
      "At the heart of the Peel Park Campus, the Chapman Gallery hosts a wide range of modern and contemporary art exhibitions that showcase the work of up and coming artists, university staff, students and the community of Salford.\n",
      "The Tom Husband Leisure Centre is on the Peel Park Campus and adjacent to the Students' Union. It contains a gym, 25m swimming pool, sauna and spa, squash courts, climbing wall, and a multi-use sports hall.\n",
      "The Adelphi Studio Theatre is a small theatre venue based in the School of Music, Media and Performance's Adelphi Building.\n",
      "Organisation and administration.\n",
      "Research and development centres.\n",
      "The United National Institute for Prosthetics and Orthotics Development is located in the University's Prosthetics and Orthotics division of its School of Health, Sport and Rehabilitation Sciences. It is the only prosthetics and orthotics higher education provider in England.\n",
      "The KidsCan Children's Cancer Research Centre is in the University's John Armstrong Welsh Laboratories at the Centre for Biochemistry, Drug Design and Cancer Research. It was established in 2002 to develop treatments with fewer side effects for children and young adults.\n",
      "Academic profile.\n",
      "The university was organised into seven schools:\n",
      "After a series of mergers, in 2018 and 2019, the university is now organised into four schools:\n",
      "International students come from China, India, Pakistan, Saudi Arabia, Cyprus, Greece, Nigeria, the Republic of Ireland, Romania, Malaysia and Bulgaria. Previously, with its three colleges, 12 schools, nearly 20,000 students, and over 2,500 staff, Salford had a turnover of some £156m in 2006/07. A report from social and economic impact report published in 2019, sets the turnover to £180.5m in 2019\n",
      "The university is a founding member of the Northern Consortium of universities.\n",
      "In October 2008 it was announced that compulsory redundancies were likely at the university, as part of a plan to save £12.5 million over three years. A notice by the university registrar said that Salford needed to invest £300 million in university estate and £40 million in moving the arts and media faculty to the \"MediaCityUK\" site at Salford Quays, where the BBC is to establish its northern headquarters. The notice went on to say that these additional costs came in the context of a number of pressures: salary bills that had \"exceeded the university's expectations\"; a \"serious problem\" with student retention; the \"credit crunch\"; and three \"seriously underperforming\" schools. Affected schools include the School of Nursing, Salford Business School and the School of Community Health Sciences and Social Care.\n",
      "Teaching quality and rankings.\n",
      "In the 2018 \"Guardian\" University League Tables, the University of Salford placed 99th, down from 83rd in 2017. \"The Times\" newspaper ranked Salford 105th out of 123 UK institutions in 2015, from 84th of 114 in 2010.\n",
      "Student life.\n",
      "University House on the Peel Park Campus is home to the University of Salford Students' Union (USSU). As well as representing students, the union plays host to a number of services, including shops and a bar.\n",
      "The Two Cities Boat Race is an annual boat race that has been running since 1972. It is now an established event in the sporting and social calendar of Salford and Manchester. The event is also significant for the amount of work put in by volunteers from both universities, to help with event set-up, stewarding, and programme selling, raising money for many different charities. In 2007 the recipient of the proceeds was SPARKS, a charity that supports medical research for children.\n",
      "In 1971–72, the University Rugby League club won the UAU Championship, beating Sheffield University in the final at The Willows, then home of Salford Rugby League Club.\n",
      "Diversity and Inclusion.\n",
      "At Salford there is still a difference in the degrees obtained by White students and those obtained by BAME students. The reported gap for 2017/2018 for first and 2.1 class degree level is 15% between white and BAME students as published in a University report. The students' union believe that the Black attainment gap is a result of institutional and systemic failures within the institution, including a lack of diversity within teaching, inadequate support services and covert racism and microagressions towards BME students. The University intend to respond by creating an 'inclusive environment'. To date this has involved surveying students and signing up to the Race Equality Charter. This is crucial, as The University has 10% more BAME students than the national average at both undergraduate and postgraduate level. As of 9 August 2018, BAME staff representation (13%) does not match the BAME student population representation. Whilst there have been a 2% increase in BAME lecturers being hired, there is an 8% decrease in promotion to senior lecturer level and a 3% increase at Professorial level. The University report states that '...it is important that we consider the pipeline for BAME academics to address this decrease.'. In October 2019, the University hosted a two-week festival on Equality, Diversity and Inclusion, with the theme, 'belonging at Salford'. As part of this, a one-day symposium featured keynote speaker, Nicola Rollock, a leading figures with a vision for equality, diversity and inclusion. There were presentations on the BAME Attainment Gap, a panel discussion of BAME women in HE, and networking opportunities for academics and students.\n",
      "Representation of female staff is 51% compared to 56% undergraduate students. The number of staff who are LGBTQI is 4% and is equivalent to the number of students who report as being LGBTQI, however it is worth noting that 49% of students didn't report their sexuality. There is an underrepresentation of disabled staff (4%) compared to undergraduate students (21%).\n",
      "Accommodation.\n",
      "There are five self-catered halls of residence:\n",
      "Peel Park Quarter encompasses nine buildings of flats owned by Campus Living Villages, comprising a total of 1,367 rooms. There are six variations of rooms, including wheelchair accessible en-suite rooms. This complex opened for students in summer 2015.\n",
      "Eddie Colman and John Lester Courts are two blocks of flats containing 755 rooms in total, and each flat is shared between two, three or four people. The flats are the closest accommodation to Salford Shopping City in Pendleton – colloquially referred to as the Precinct. Eddie Colman and John Lester Courts were sold by the University of Salford to Campus Living Villages in December 2008. These became CLV's first British properties. Eddie Colman was a resident of nearby Archie Street, the model for the television series \"Coronation Street\", and was a player for Manchester United. He was killed in the Munich Disaster of 6 February 1958 along with seven other players.\n",
      "Constantine Court was the only \"en suite\" university-owned accommodation, which consisted of 80 rooms in seven houses. This accommodation was in the centre of the main university campus, close to the Students' Union shop, a bank and Salford Crescent railway station. Adjacent Horlock Court comprised 168 rooms in 14 houses.\n",
      "Bramall Court contains flats close to the Adelphi Campus. The flats are shared between two, three or four. Bramall Court is now owned by Campus Living Villages.\n",
      "Castle Irwell Student Village was the largest area of accommodation, housing up to 1,600 students, and is on the site of the old Manchester Racecourse. Castle Irwell was a popular choice for first years, due to the cheap rent, however Castle Irwell is no longer in use and has been superseded by the on-campus Peel Park Quarter. In 2016 the main building on the Castle Irwell site, known as 'the pav', was burned down in an arson attack. Shortly after, demolition of the burnt and other derelict buildings on site commenced and completely cleared by early 2017.\n",
      "iQ Salford, Seaford Road is owned and run by iQ Student Accommodation in partnership with the university. This accommodation site consists of a square of houses around a central reception, lounge, and laundry building, with an independent gym. Each house contains six flats, which are typically shared by six people with en suite bathrooms. The site also has deluxe rooms available for an extra cost. This accommodation is very close to Castle Irwell. The site includes purpose-built SPAR, Subway and Greggs shops.\n",
      "Tramways, Seaford Road is independently run by Sanctuary Students. Its name originates from the old tram depot, run by Manchester Corporation Tramways, that was located on the same site.\n",
      "Sports.\n",
      "The University currently has 35 sports clubs ranging from football to ultimate. Each year, Salford and Chester University take part in a varsity challenge. This began in 2016 at Chester's campus. In 2016, 19 sports were involved and Chester won 12-7 overall. The following year took place at Salford, and with an overall score of 12-8, Salford took the trophy.\n"
     ]
    }
   ],
   "source": [
    "from nltk.tokenize import sent_tokenize\n",
    "sentences = []\n",
    "for para in obj[\"text\"].split('\\n'):\n",
    "    print(para)"
   ]
  },
  {
   "cell_type": "code",
   "execution_count": 8,
   "metadata": {},
   "outputs": [],
   "source": [
    "table_entity_rel = \"/afs/crc.nd.edu/group/dmsquare/vol2/myu2/ComparisonSentences/data/wikidata/tables/entity_rels/university.tsv\"\n",
    "table_entity_value = \"/afs/crc.nd.edu/group/dmsquare/vol2/myu2/ComparisonSentences/data/wikidata/tables/entity_values/university.tsv\"\n"
   ]
  },
  {
   "cell_type": "code",
   "execution_count": 5,
   "metadata": {},
   "outputs": [],
   "source": []
  },
  {
   "cell_type": "code",
   "execution_count": null,
   "metadata": {},
   "outputs": [],
   "source": []
  }
 ],
 "metadata": {
  "kernelspec": {
   "display_name": "Python 3.7.11 ('bert')",
   "language": "python",
   "name": "python3"
  },
  "language_info": {
   "codemirror_mode": {
    "name": "ipython",
    "version": 3
   },
   "file_extension": ".py",
   "mimetype": "text/x-python",
   "name": "python",
   "nbconvert_exporter": "python",
   "pygments_lexer": "ipython3",
   "version": "3.7.11"
  },
  "orig_nbformat": 4,
  "vscode": {
   "interpreter": {
    "hash": "038ac43ff01c31cd641835814f979bd9daf9dcda5104326cfb2cc592d72d42d9"
   }
  }
 },
 "nbformat": 4,
 "nbformat_minor": 2
}
