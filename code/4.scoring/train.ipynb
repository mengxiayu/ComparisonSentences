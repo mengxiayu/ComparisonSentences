{
 "cells": [
  {
   "cell_type": "code",
   "execution_count": 2,
   "metadata": {},
   "outputs": [
    {
     "name": "stdout",
     "output_type": "stream",
     "text": [
      "90000 5000 5000\n"
     ]
    }
   ],
   "source": [
    "import sklearn\n",
    "from sklearn.model_selection import train_test_split\n",
    "\n",
    "from pathlib import Path\n",
    "import pandas as pd\n",
    "\n",
    "\n",
    "path_data = Path(\"/afs/crc.nd.edu/group/dmsquare/vol2/myu2/ComparisonSentences/experiments/pair_scoring/Q5/data_random_50k\")\n",
    "dataset = pd.read_csv(path_data)\n",
    "\n",
    "# path_data_1 = Path(\"/afs/crc.nd.edu/group/dmsquare/vol2/myu2/ComparisonSentences/experiments/pair_scoring/Q5/data_100k_hn.csv\")\n",
    "# dataset_1 = pd.read_csv(path_data_1)\n",
    "\n",
    "X = dataset.iloc[:, :-1]\n",
    "Y = dataset.iloc[:, -1]\n",
    "X_train, X_test, Y_train, Y_test = train_test_split(X, Y, test_size=0.1, random_state=0)\n",
    "X_dev, X_test, Y_dev, Y_test = train_test_split(X_test, Y_test, test_size=0.5, random_state=0)\n",
    "X_train = X_train.iloc[:, 1:]\n",
    "X_dev = X_dev.iloc[:, 1:]\n",
    "X_test = X_test.iloc[:, 1:]\n",
    "print(len(X_train), len(X_dev), len(X_test))\n",
    "\n",
    "# path_inference_data = Path(\"/afs/crc.nd.edu/group/dmsquare/vol2/myu2/ComparisonSentences/experiments/pair_scoring/Q11424/data_2k_hn.csv\")\n",
    "# dataset_inference = pd.read_csv(path_inference_data)\n",
    "# X_infer = dataset_inference.iloc[:, 1:-1]\n",
    "# Y_infer = dataset_inference.iloc[:, -1]\n"
   ]
  },
  {
   "cell_type": "code",
   "execution_count": 10,
   "metadata": {},
   "outputs": [
    {
     "name": "stdout",
     "output_type": "stream",
     "text": [
      "train_r2 0.9531297666682106\n",
      "test_r2 0.7443229201770163\n",
      "test_mae 0.1868538965268013\n",
      "test_mse 0.12163433911499735\n",
      "[4.29451598e-02 4.17268239e-02 3.14921215e-02 2.03903539e-02\n",
      " 3.08933951e-02 2.32396720e-02 1.46509171e-02 9.31373511e-04\n",
      " 1.49526305e-02 6.64911776e-02 1.59906559e-06 5.69433590e-01\n",
      " 3.37094787e-02 1.10435553e-02 1.71013989e-02 1.78091055e-02\n",
      " 2.32475121e-02 3.99401351e-02]\n",
      "ndcg 0.9597451135280733\n",
      "kendalltau, p KendalltauResult(correlation=0.7373997741701624, pvalue=0.0)\n",
      "acc 0.9654\n",
      "p 0.955735180908391\n",
      "r 0.9771743408107044\n",
      "f1 0.9663358630083673\n"
     ]
    }
   ],
   "source": [
    "from sklearn.metrics import r2_score, explained_variance_score, max_error, mean_absolute_error, mean_squared_error, mean_poisson_deviance\n",
    "from sklearn.ensemble import RandomForestRegressor\n",
    "import numpy as np\n",
    "import scipy.stats as stats\n",
    "\n",
    "regressor = RandomForestRegressor(n_estimators=130, random_state=0)\n",
    "regressor.fit(X_train, Y_train)\n",
    "y_pred_train = regressor.predict(X_train)\n",
    "print(\"train_r2\", r2_score(Y_train, y_pred_train))\n",
    "y_pred = regressor.predict(X_test)\n",
    "print(\"test_r2\", r2_score(Y_test, y_pred))\n",
    "print(\"test_mae\", mean_absolute_error(Y_test, y_pred))\n",
    "print(\"test_mse\", mean_squared_error(Y_test, y_pred))\n",
    "\n",
    "\n",
    "print(regressor.feature_importances_)\n",
    "\n",
    "# as classification / ranking\n",
    "import math\n",
    "from sklearn.metrics import accuracy_score, precision_score, recall_score, ndcg_score, f1_score\n",
    "print(\"ndcg\", ndcg_score(np.array([Y_test]), [y_pred]))\n",
    "print(\"kendalltau, p\", stats.kendalltau(Y_test, y_pred))\n",
    "y_pred = [1 if x > math.log(1.5) else 0 for x in y_pred]\n",
    "y_label = [1 if x > math.log(1.5) else 0 for x in Y_test]\n",
    "print(\"acc\",accuracy_score(y_label, y_pred))\n",
    "print(\"p\",precision_score(y_label, y_pred))\n",
    "print(\"r\", recall_score(y_label, y_pred))\n",
    "print(\"f1\", f1_score(y_label, y_pred))"
   ]
  },
  {
   "cell_type": "markdown",
   "metadata": {},
   "source": [
    "Grid Search"
   ]
  },
  {
   "cell_type": "code",
   "execution_count": 9,
   "metadata": {},
   "outputs": [
    {
     "data": {
      "text/plain": [
       "({'mean_fit_time': array([0.16061735, 0.46703211, 0.82180508, 1.16122111, 1.44993051,\n",
       "         1.74011397, 2.05632011, 2.36814872, 2.66730054, 2.99415239]),\n",
       "  'std_fit_time': array([0.00586488, 0.00167089, 0.02357268, 0.01985484, 0.01567037,\n",
       "         0.01534777, 0.02975151, 0.01588617, 0.01769116, 0.02659146]),\n",
       "  'mean_score_time': array([0.00437832, 0.00903694, 0.0151097 , 0.02040577, 0.02587867,\n",
       "         0.0305117 , 0.03771814, 0.04282538, 0.04889512, 0.05371404]),\n",
       "  'std_score_time': array([2.62226695e-04, 8.69615403e-05, 2.94910986e-04, 1.25133238e-03,\n",
       "         3.46527605e-04, 1.00332508e-03, 1.40550384e-03, 4.45316140e-04,\n",
       "         1.15362201e-03, 3.49015648e-04]),\n",
       "  'param_n_estimators': masked_array(data=[10, 30, 50, 70, 90, 110, 130, 150, 170, 190],\n",
       "               mask=[False, False, False, False, False, False, False, False,\n",
       "                     False, False],\n",
       "         fill_value='?',\n",
       "              dtype=object),\n",
       "  'params': [{'n_estimators': 10},\n",
       "   {'n_estimators': 30},\n",
       "   {'n_estimators': 50},\n",
       "   {'n_estimators': 70},\n",
       "   {'n_estimators': 90},\n",
       "   {'n_estimators': 110},\n",
       "   {'n_estimators': 130},\n",
       "   {'n_estimators': 150},\n",
       "   {'n_estimators': 170},\n",
       "   {'n_estimators': 190}],\n",
       "  'split0_test_score': array([0.53361521, 0.56158509, 0.57454056, 0.57553297, 0.57533482,\n",
       "         0.57739045, 0.5799406 , 0.57638036, 0.57779275, 0.57663792]),\n",
       "  'split1_test_score': array([0.56677115, 0.58735867, 0.59078287, 0.59331557, 0.59537858,\n",
       "         0.59793053, 0.59963582, 0.59924494, 0.60084116, 0.60113692]),\n",
       "  'split2_test_score': array([0.59487081, 0.63706563, 0.64413525, 0.64571609, 0.64577319,\n",
       "         0.64624173, 0.64689866, 0.64609228, 0.64643038, 0.6470288 ]),\n",
       "  'mean_test_score': array([0.56508572, 0.59533646, 0.60315289, 0.60485488, 0.60549553,\n",
       "         0.60718757, 0.60882503, 0.60723919, 0.60835476, 0.60826788]),\n",
       "  'std_test_score': array([0.02503588, 0.0313269 , 0.02972786, 0.02979132, 0.02963281,\n",
       "         0.02886052, 0.02809717, 0.02901573, 0.02852042, 0.02917598]),\n",
       "  'rank_test_score': array([10,  9,  8,  7,  6,  5,  1,  4,  2,  3], dtype=int32)},\n",
       " {'n_estimators': 130},\n",
       " 0.6088250266418064)"
      ]
     },
     "execution_count": 9,
     "metadata": {},
     "output_type": "execute_result"
    }
   ],
   "source": [
    "from sklearn.model_selection import GridSearchCV\n",
    "param_search = {'n_estimators': range(10, 201, 20)}\n",
    "gsearch = GridSearchCV(estimator=RandomForestRegressor(random_state=10),\n",
    "                       param_grid=param_search,\n",
    "                       scoring=\"r2\", \n",
    "                       cv=3 )\n",
    "gsearch.fit(X_dev, Y_dev)\n",
    "gsearch.cv_results_, gsearch.best_params_, gsearch.best_score_"
   ]
  },
  {
   "cell_type": "code",
   "execution_count": 12,
   "metadata": {},
   "outputs": [],
   "source": [
    "param_test2 = {'max_depth':range(3,20,4), 'min_samples_split':range(10,201,30)}\n",
    "\n",
    "gsearch = GridSearchCV(estimator=RandomForestRegressor(n_estimators=130, random_state=10),\n",
    "                       param_grid=param_test2,\n",
    "                       scoring=\"r2\", \n",
    "                       cv=3 )\n",
    "gsearch.fit(X_train, Y_train)\n",
    "gsearch.cv_results_, gsearch.best_params_, gsearch.best_score_\n"
   ]
  },
  {
   "cell_type": "code",
   "execution_count": 76,
   "metadata": {},
   "outputs": [
    {
     "name": "stdout",
     "output_type": "stream",
     "text": [
      "ndcg 0.9147352462914058\n",
      "acc 0.83345\n",
      "p 0.600412571289892\n",
      "r 0.9923786602486964\n"
     ]
    }
   ],
   "source": [
    "# test in another domain\n",
    "# y_pred = regressor.predict(X_infer)\n",
    "# print(r2_score(Y_infer, y_pred))\n",
    "# print(regressor.feature_importances_)\n",
    "\n",
    "# as classification\n",
    "import math\n",
    "from sklearn.metrics import accuracy_score, precision_score, recall_score, ndcg_score\n",
    "print(\"ndcg\", ndcg_score(np.array([Y_test]), [y_pred]))\n",
    "y_pred = [1 if x > math.log(2) else 0 for x in y_pred]\n",
    "y_label = [1 if x > math.log(2) else 0 for x in Y_test]\n",
    "print(\"acc\",accuracy_score(y_label, y_pred))\n",
    "print(\"p\",precision_score(y_label, y_pred))\n",
    "print(\"r\", recall_score(y_label, y_pred))"
   ]
  },
  {
   "cell_type": "code",
   "execution_count": 47,
   "metadata": {},
   "outputs": [
    {
     "data": {
      "image/png": "[encoded data removed]",
      "text/plain": [
       "<Figure size 432x288 with 1 Axes>"
      ]
     },
     "metadata": {
      "needs_background": "light"
     },
     "output_type": "display_data"
    }
   ],
   "source": [
    "X = dataset.iloc[:, 1:-1]\n",
    "Y = dataset.iloc[:, -1]\n",
    "\n",
    "train_score = []\n",
    "test_score = []\n",
    "n = 10\n",
    "num_train_example = int(len(X_train) / n) \n",
    "for i in range(n):\n",
    "    start = i*num_train_example\n",
    "    end = (i+1)*num_train_example\n",
    "    regressor = RandomForestRegressor(n_estimators=10, random_state=0)\n",
    "    regressor.fit(X_train[:end], Y_train[:end])\n",
    "    y_train_pred = regressor.predict(X_train[:end])\n",
    "    train_score.append(r2_score(Y_train[:end], y_train_pred))\n",
    "\n",
    "    y_test_pred = regressor.predict(X_test)\n",
    "    test_score.append(r2_score(Y_test, y_test_pred))\n",
    "    \n",
    "import matplotlib.pyplot as plt\n",
    "plt.plot([i for i in range(n)], train_score, label=\"train\")\n",
    "plt.plot([i for i in range(n)], test_score, label=\"test\")\n",
    "plt.legend()\n",
    "plt.show()"
   ]
  },
  {
   "cell_type": "code",
   "execution_count": null,
   "metadata": {},
   "outputs": [],
   "source": []
  }
 ],
 "metadata": {
  "kernelspec": {
   "display_name": "Python 3.8.9 64-bit",
   "language": "python",
   "name": "python3"
  },
  "language_info": {
   "codemirror_mode": {
    "name": "ipython",
    "version": 3
   },
   "file_extension": ".py",
   "mimetype": "text/x-python",
   "name": "python",
   "nbconvert_exporter": "python",
   "pygments_lexer": "ipython3",
   "version": "3.8.9"
  },
  "orig_nbformat": 4,
  "vscode": {
   "interpreter": {
    "hash": "31f2aee4e71d21fbe5cf8b01ff0e069b9275f58929596ceb00d14d90e3e16cd6"
   }
  }
 },
 "nbformat": 4,
 "nbformat_minor": 2
}
