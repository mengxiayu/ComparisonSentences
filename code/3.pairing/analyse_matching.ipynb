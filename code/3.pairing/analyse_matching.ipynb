{
 "cells": [
  {
   "cell_type": "code",
   "execution_count": 1,
   "metadata": {},
   "outputs": [],
   "source": [
    "# count lines\n",
    "\n",
    "import json\n",
    "from pathlib import Path\n",
    "\n",
    "dir_matched = Path(\"/afs/crc.nd.edu/group/dmsquare/vol2/myu2/ComparisonSentences/data/statement_scoring/news_v1\")\n",
    "\n",
    "etype2lines = {}\n",
    "for fn in dir_matched.glob(\"*matched.json\"):\n",
    "    # print(fn.stem)\n",
    "    entity_type = str(fn.stem).strip(\"_matched\")\n",
    "    with open(fn) as f:\n",
    "        cnt = 0\n",
    "        for i in f:\n",
    "            cnt += 1\n",
    "        if cnt > 0:\n",
    "            etype2lines[entity_type] = cnt"
   ]
  },
  {
   "cell_type": "code",
   "execution_count": 3,
   "metadata": {},
   "outputs": [
    {
     "name": "stdout",
     "output_type": "stream",
     "text": [
      "total lines 912529\n",
      "total etypes 123\n"
     ]
    }
   ],
   "source": [
    "print(\"total lines\", sum(v for k,v in etype2lines.items()))\n",
    "print(\"total etypes\", len(etype2lines))"
   ]
  },
  {
   "cell_type": "code",
   "execution_count": null,
   "metadata": {},
   "outputs": [],
   "source": []
  }
 ],
 "metadata": {
  "kernelspec": {
   "display_name": "bert",
   "language": "python",
   "name": "python3"
  },
  "language_info": {
   "codemirror_mode": {
    "name": "ipython",
    "version": 3
   },
   "file_extension": ".py",
   "mimetype": "text/x-python",
   "name": "python",
   "nbconvert_exporter": "python",
   "pygments_lexer": "ipython3",
   "version": "3.7.11"
  },
  "orig_nbformat": 4,
  "vscode": {
   "interpreter": {
    "hash": "4d8688f04fd1fa4aff304b56e81ea5350d477cdeeb5db0fd8b4cec18bd13a8cf"
   }
  }
 },
 "nbformat": 4,
 "nbformat_minor": 2
}
