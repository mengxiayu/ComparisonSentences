{
 "cells": [
  {
   "cell_type": "code",
   "execution_count": 1,
   "metadata": {},
   "outputs": [
    {
     "name": "stdout",
     "output_type": "stream",
     "text": [
      "Q5 4175\n",
      "Q11424 10675\n",
      "Q134556 831\n",
      "Q3331189 9\n",
      "Q1077097 43\n",
      "Q1378975 14\n",
      "Q3957 629\n",
      "Q79913 1\n",
      "Q29168811 9\n",
      "Q131669 8\n",
      "Q11691 23\n",
      "Q860861 25\n",
      "Q87167 9\n",
      "Q56019 31\n",
      "Q820477 4\n",
      "Q655686 11\n",
      "Q35535 1\n",
      "Q786820 37\n",
      "Q9135 27\n",
      "Q17517379 53\n",
      "Q13027888 139\n",
      "Q169950 10\n",
      "Q54050 76\n",
      "Q18811583 3\n",
      "Q824979 3\n",
      "Q1195098 3\n",
      "Q150784 3\n",
      "Q856713 2\n",
      "Q63952888 6\n",
      "Q23058 11\n",
      "Q708676 2\n",
      "Q149621 23\n",
      "Q11879590 64\n",
      "Q817477 2\n",
      "Q40357 99\n",
      "Q37901 12\n",
      "Q8514 3\n",
      "Q1402592 53\n",
      "Q43229 167\n"
     ]
    }
   ],
   "source": [
    "import json\n",
    "from pathlib import Path\n",
    "\n",
    "dir_matched = Path(\"/afs/crc.nd.edu/group/dmsquare/vol2/myu2/ComparisonSentences/data/statement_scoring/wiki\")\n",
    "\n",
    "etype2lines = {}\n",
    "for fn in dir_matched.glob(\"*matched.json\"):\n",
    "    # print(fn.stem)\n",
    "    entity_type = str(fn.stem).strip(\"_matched\")\n",
    "    with open(fn) as f:\n",
    "        cnt = 0\n",
    "        for i in f:\n",
    "            cnt += 1\n",
    "        if cnt > 0:\n",
    "            etype2lines[entity_type] = cnt\n",
    "\n",
    "for k,v in etype2lines.items():\n",
    "    print(k,v)\n",
    "        \n"
   ]
  },
  {
   "cell_type": "code",
   "execution_count": 3,
   "metadata": {},
   "outputs": [
    {
     "data": {
      "text/plain": [
       "17296"
      ]
     },
     "execution_count": 3,
     "metadata": {},
     "output_type": "execute_result"
    }
   ],
   "source": [
    "sum(v for k,v in etype2lines.items())"
   ]
  },
  {
   "cell_type": "code",
   "execution_count": null,
   "metadata": {},
   "outputs": [],
   "source": []
  }
 ],
 "metadata": {
  "kernelspec": {
   "display_name": "bert",
   "language": "python",
   "name": "python3"
  },
  "language_info": {
   "codemirror_mode": {
    "name": "ipython",
    "version": 3
   },
   "file_extension": ".py",
   "mimetype": "text/x-python",
   "name": "python",
   "nbconvert_exporter": "python",
   "pygments_lexer": "ipython3",
   "version": "3.7.11 (default, Jul 27 2021, 14:32:16) \n[GCC 7.5.0]"
  },
  "orig_nbformat": 4,
  "vscode": {
   "interpreter": {
    "hash": "4d8688f04fd1fa4aff304b56e81ea5350d477cdeeb5db0fd8b4cec18bd13a8cf"
   }
  }
 },
 "nbformat": 4,
 "nbformat_minor": 2
}
