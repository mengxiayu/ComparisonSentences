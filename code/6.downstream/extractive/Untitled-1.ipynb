{
 "cells": [
  {
   "cell_type": "code",
   "execution_count": 22,
   "metadata": {},
   "outputs": [
    {
     "name": "stderr",
     "output_type": "stream",
     "text": [
      "Some weights of the model checkpoint at bert-base-uncased were not used when initializing BertModel: ['cls.predictions.decoder.weight', 'cls.predictions.transform.dense.bias', 'cls.seq_relationship.weight', 'cls.predictions.transform.LayerNorm.weight', 'cls.predictions.transform.dense.weight', 'cls.seq_relationship.bias', 'cls.predictions.transform.LayerNorm.bias', 'cls.predictions.bias']\n",
      "- This IS expected if you are initializing BertModel from the checkpoint of a model trained on another task or with another architecture (e.g. initializing a BertForSequenceClassification model from a BertForPreTraining model).\n",
      "- This IS NOT expected if you are initializing BertModel from the checkpoint of a model that you expect to be exactly identical (initializing a BertForSequenceClassification model from a BertForSequenceClassification model).\n"
     ]
    },
    {
     "name": "stdout",
     "output_type": "stream",
     "text": [
      "torch.Size([2, 13])\n",
      "mask token id 103\n"
     ]
    }
   ],
   "source": [
    "from transformers import BertTokenizer, BertForTokenClassification, BertModel\n",
    "import torch\n",
    "\n",
    "tokenizer = BertTokenizer.from_pretrained(\"bert-base-uncased\")\n",
    "model = BertModel.from_pretrained(\"bert-base-uncased\")\n",
    "\n",
    "inputs = tokenizer(\n",
    "    [\"HuggingFace is a [CLS] company based in Paris [CLS] and New York\",\n",
    "    \"Hello [CLS] World \"], \n",
    "    add_special_tokens=False, return_tensors=\"pt\", padding=True\n",
    ")\n",
    "token_ids = inputs.input_ids\n",
    "print(token_ids.shape)\n",
    "\n",
    "outputs = model(**inputs)\n",
    "\n",
    "last_hidden_states = outputs.last_hidden_state\n",
    "\n",
    "last_hidden_states.shape\n",
    "\n",
    "print(\"mask token id\", tokenizer.mask_token_id)\n",
    "\n"
   ]
  },
  {
   "cell_type": "code",
   "execution_count": 24,
   "metadata": {},
   "outputs": [
    {
     "data": {
      "text/plain": [
       "tensor([[17662, 12172,  2003,  1037,   101,  2194,  2241,  1999,  3000,   101,\n",
       "          1998,  2047,  2259],\n",
       "        [ 7592,   101,  2088,     0,     0,     0,     0,     0,     0,     0,\n",
       "             0,     0,     0]])"
      ]
     },
     "execution_count": 24,
     "metadata": {},
     "output_type": "execute_result"
    }
   ],
   "source": [
    "token_ids"
   ]
  },
  {
   "cell_type": "code",
   "execution_count": 43,
   "metadata": {},
   "outputs": [
    {
     "data": {
      "text/plain": [
       "array([[0, 4],\n",
       "       [0, 9],\n",
       "       [1, 1]])"
      ]
     },
     "execution_count": 43,
     "metadata": {},
     "output_type": "execute_result"
    }
   ],
   "source": [
    "masked_position = torch.nonzero(token_ids.squeeze() == tokenizer.cls_token_id).numpy()\n",
    "\n",
    "masked_position"
   ]
  },
  {
   "cell_type": "code",
   "execution_count": 51,
   "metadata": {},
   "outputs": [
    {
     "data": {
      "text/plain": [
       "tensor([[[-0.4628, -0.1540,  0.3660],\n",
       "         [-0.0718,  0.0234,  0.6171],\n",
       "         [-0.4905, -0.3826,  0.3441],\n",
       "         [-0.4751, -0.3955,  0.4963],\n",
       "         [-0.4662, -0.1356,  0.3492],\n",
       "         [-0.2884, -0.1606,  0.4776],\n",
       "         [ 0.2013, -0.1857,  0.3939],\n",
       "         [-0.4220, -0.1807,  0.4796],\n",
       "         [-0.2899, -0.0101,  0.3269],\n",
       "         [-0.4529, -0.1268,  0.3484],\n",
       "         [-0.4190, -0.1185,  0.4642],\n",
       "         [-0.5906, -0.0367,  0.8036],\n",
       "         [-0.6655,  0.2763,  0.4465]],\n",
       "\n",
       "        [[-0.4479,  0.2598,  0.0396],\n",
       "         [-0.4392,  0.2628,  0.0397],\n",
       "         [-0.2960,  0.4005,  0.2181],\n",
       "         [-0.3829,  0.2139,  0.1856],\n",
       "         [-0.3673,  0.2274,  0.1870],\n",
       "         [-0.3872,  0.2322,  0.1599],\n",
       "         [-0.3939,  0.2319,  0.1586],\n",
       "         [-0.4101,  0.2441,  0.1621],\n",
       "         [-0.4176,  0.2388,  0.1580],\n",
       "         [-0.4097,  0.2443,  0.1633],\n",
       "         [-0.4118,  0.2463,  0.1580],\n",
       "         [-0.4104,  0.2449,  0.1561],\n",
       "         [-0.4111,  0.2383,  0.1675]]], grad_fn=<SliceBackward>)"
      ]
     },
     "execution_count": 51,
     "metadata": {},
     "output_type": "execute_result"
    }
   ],
   "source": [
    "last_hidden_states = last_hidden_states[:, :, :3]\n",
    "last_hidden_states"
   ]
  },
  {
   "cell_type": "code",
   "execution_count": 15,
   "metadata": {},
   "outputs": [],
   "source": [
    "masked_position = torch.nonzero(token_ids.squeeze() == tokenizer.mask_token_id)"
   ]
  },
  {
   "cell_type": "code",
   "execution_count": 101,
   "metadata": {},
   "outputs": [],
   "source": [
    "indices = torch.nonzero(token_ids.flatten() == tokenizer.cls_token_id)"
   ]
  },
  {
   "cell_type": "code",
   "execution_count": 105,
   "metadata": {},
   "outputs": [
    {
     "data": {
      "text/plain": [
       "tensor([ 4,  9, 14])"
      ]
     },
     "execution_count": 105,
     "metadata": {},
     "output_type": "execute_result"
    }
   ],
   "source": [
    "indices.flatten()"
   ]
  },
  {
   "cell_type": "code",
   "execution_count": 106,
   "metadata": {},
   "outputs": [
    {
     "data": {
      "text/plain": [
       "tensor([[-0.4662, -0.1356,  0.3492],\n",
       "        [-0.4529, -0.1268,  0.3484],\n",
       "        [-0.4392,  0.2628,  0.0397]], grad_fn=<IndexSelectBackward>)"
      ]
     },
     "execution_count": 106,
     "metadata": {},
     "output_type": "execute_result"
    }
   ],
   "source": [
    "last_hidden_states.view(-1, last_hidden_states.shape[-1]).index_select(0, indices.flatten())"
   ]
  },
  {
   "cell_type": "code",
   "execution_count": null,
   "metadata": {},
   "outputs": [],
   "source": []
  },
  {
   "cell_type": "code",
   "execution_count": 83,
   "metadata": {},
   "outputs": [
    {
     "ename": "SyntaxError",
     "evalue": "invalid syntax (817894800.py, line 1)",
     "output_type": "error",
     "traceback": [
      "\u001b[0;36m  File \u001b[0;32m\"/tmp/ipykernel_1446304/817894800.py\"\u001b[0;36m, line \u001b[0;32m1\u001b[0m\n\u001b[0;31m    sentence_representations = last_hidden_states[[x.item(), y.item()] for (x,y) in masked_position]\u001b[0m\n\u001b[0m                                                                         ^\u001b[0m\n\u001b[0;31mSyntaxError\u001b[0m\u001b[0;31m:\u001b[0m invalid syntax\n"
     ]
    }
   ],
   "source": [
    "sentence_representations = last_hidden_states[[x.item(), y.item()] for (x,y) in masked_position]"
   ]
  },
  {
   "cell_type": "code",
   "execution_count": 56,
   "metadata": {},
   "outputs": [
    {
     "data": {
      "text/plain": [
       "tensor([[[0.4295, 0.7694, 0.3053],\n",
       "         [0.6503, 0.9081, 0.8211]],\n",
       "\n",
       "        [[0.7638, 0.6187, 0.8068],\n",
       "         [0.5029, 0.3763, 0.0468]],\n",
       "\n",
       "        [[0.0187, 0.2277, 0.5768],\n",
       "         [0.8983, 0.6863, 0.5825]],\n",
       "\n",
       "        [[0.9343, 0.3692, 0.7496],\n",
       "         [0.1416, 0.6753, 0.1482]]])"
      ]
     },
     "execution_count": 56,
     "metadata": {},
     "output_type": "execute_result"
    }
   ],
   "source": []
  },
  {
   "cell_type": "code",
   "execution_count": 75,
   "metadata": {},
   "outputs": [
    {
     "data": {
      "text/plain": [
       "tensor([[1, 1],\n",
       "        [4, 3]])"
      ]
     },
     "execution_count": 75,
     "metadata": {},
     "output_type": "execute_result"
    }
   ],
   "source": [
    "t = torch.tensor([[1, 2], [3, 4]])\n",
    "torch.gather(t, 1, torch.tensor([[0, 0], [1, 0]]))"
   ]
  },
  {
   "cell_type": "code",
   "execution_count": 73,
   "metadata": {},
   "outputs": [
    {
     "data": {
      "text/plain": [
       "tensor([[0, 1],\n",
       "        [0, 2],\n",
       "        [2, 3]], dtype=torch.int32)"
      ]
     },
     "execution_count": 73,
     "metadata": {},
     "output_type": "execute_result"
    }
   ],
   "source": [
    "b = torch.Tensor([[0,1], [0,2], [2,3]]).int()\n",
    "b"
   ]
  },
  {
   "cell_type": "code",
   "execution_count": 60,
   "metadata": {},
   "outputs": [
    {
     "ename": "IndexError",
     "evalue": "index 2 is out of bounds for dimension 0 with size 2",
     "output_type": "error",
     "traceback": [
      "\u001b[0;31m---------------------------------------------------------------------------\u001b[0m",
      "\u001b[0;31mIndexError\u001b[0m                                Traceback (most recent call last)",
      "\u001b[0;32m/tmp/ipykernel_1446304/3319907685.py\u001b[0m in \u001b[0;36m<module>\u001b[0;34m\u001b[0m\n\u001b[0;32m----> 1\u001b[0;31m \u001b[0ma\u001b[0m\u001b[0;34m[\u001b[0m\u001b[0;34m:\u001b[0m\u001b[0;34m,\u001b[0m \u001b[0mb\u001b[0m\u001b[0;34m.\u001b[0m\u001b[0mnumpy\u001b[0m\u001b[0;34m(\u001b[0m\u001b[0;34m)\u001b[0m\u001b[0;34m]\u001b[0m\u001b[0;34m\u001b[0m\u001b[0;34m\u001b[0m\u001b[0m\n\u001b[0m",
      "\u001b[0;31mIndexError\u001b[0m: index 2 is out of bounds for dimension 0 with size 2"
     ]
    }
   ],
   "source": [
    "a"
   ]
  },
  {
   "cell_type": "code",
   "execution_count": null,
   "metadata": {},
   "outputs": [],
   "source": [
    "# build dataset\n"
   ]
  }
 ],
 "metadata": {
  "kernelspec": {
   "display_name": "Python 3.7.11 ('bert')",
   "language": "python",
   "name": "python3"
  },
  "language_info": {
   "codemirror_mode": {
    "name": "ipython",
    "version": 3
   },
   "file_extension": ".py",
   "mimetype": "text/x-python",
   "name": "python",
   "nbconvert_exporter": "python",
   "pygments_lexer": "ipython3",
   "version": "3.7.11"
  },
  "orig_nbformat": 4,
  "vscode": {
   "interpreter": {
    "hash": "4d8688f04fd1fa4aff304b56e81ea5350d477cdeeb5db0fd8b4cec18bd13a8cf"
   }
  }
 },
 "nbformat": 4,
 "nbformat_minor": 2
}
