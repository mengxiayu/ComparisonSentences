{
 "cells": [
  {
   "cell_type": "code",
   "execution_count": 1,
   "metadata": {},
   "outputs": [
    {
     "name": "stderr",
     "output_type": "stream",
     "text": [
      "/afs/crc.nd.edu/user/m/myu2/anaconda2/envs/bert/lib/python3.7/site-packages/tqdm/auto.py:22: TqdmWarning: IProgress not found. Please update jupyter and ipywidgets. See https://ipywidgets.readthedocs.io/en/stable/user_install.html\n",
      "  from .autonotebook import tqdm as notebook_tqdm\n",
      "Using custom data configuration default\n",
      "Reusing dataset multi_news (/afs/crc.nd.edu/user/m/myu2/.cache/huggingface/datasets/multi_news/default/1.0.0/2f1f69a2bedc8ad1c5d8ae5148e4755ee7095f465c1c01ae8f85454342065a72)\n",
      "100%|██████████| 3/3 [00:00<00:00, 485.73it/s]"
     ]
    },
    {
     "name": "stdout",
     "output_type": "stream",
     "text": [
      "4\n",
      "DOC:  Whether a sign of a good read; or a comment on the 'pulp' nature of some genres of fiction, the Oxfam second-hand book charts have remained in The Da Vinci Code author's favour for the past four years. \n",
      " \n",
      " Dan Brown has topped Oxfam's 'most donated' list again, his fourth consecutive year. Having sold more than 80 million copies of The Da Vinci Code and had all four of his novels on the New York Times bestseller list in the same week, it's hardly surprising that Brown's hefty tomes are being donated to charity by readers keen to make some room on their shelves. \n",
      " \n",
      " Another cult crime writer responsible to heavy-weight hardbacks, Stieg Larsson, is Oxfam's 'most sold' author for the second time in a row. Both the 'most donated' and 'most sold' lists are dominated by crime fiction, trilogies and fantasy, with JK Rowling the only female author listed in either of the Top Fives. \n",
      " \n",
      " Click here or on \"View Gallery\" to see both charts in pictures \n",
      "DOC:   A woman reads a copy of the newly released book ''The Lost Symbol'' by Dan Brown, at a speed reading book launch event in Sydney, September 15, 2009. REUTERS/Tim Wimborne \n",
      " \n",
      " SAN FRANCISCO The latest novel from \"Da Vinci Code\" author Dan Brown, \"The Lost Symbol,\" broke one-day sales records, its publisher and booksellers said. \n",
      " \n",
      " Readers snapped up over one million hardcover copies across the United States, Canada and the United Kingdom after it was released on Tuesday, said publisher Knopf Doubleday, a division of Random House Inc. \n",
      " \n",
      " \"We are seeing historic, record-breaking sales across all types of our accounts in North America for 'The Lost Symbol,\" said Sonny Mehta, editor in chief of Knopf Doubleday Publishing Group. Knopf Doubleday is a division of Random House Inc. \n",
      " \n",
      " Amazon.com Inc, the world's largest online retailer, called the book its bestselling first-day adult fiction title ever, including pre-orders. \n",
      " \n",
      " Barnes & Noble Inc said \"The Lost Symbol\" broke its previous one-day sales record for adult fiction. \n",
      " \n",
      " The success of the Dan Brown's latest is a boost to publisher Knopf Doubleday and booksellers, which have endured sliding sales in the midst of the recession. \n",
      " \n",
      " Booksellers have anxiously awaited a popular title that will resonate with readers and fuel the same sort of frenzy seen earlier this decade with the \"Harry Potter\" series, from author J.K. Rowling. \n",
      " \n",
      " But the $25 billion domestic book market has wallowed in a slump in recent years as more readers make their purchases online, or forego books altogether for online games and other forms of media and entertainment. \n",
      " \n",
      " Now, digital books and electronic reading devices such as Amazon's Kindle or Sony Corp's Reader are seen as both avenues of growth and sources of competition for traditional media, and publishers and booksellers are scrambling to respond. \n",
      " \n",
      " The highly anticipated book from Brown comes six years after the release of the American novelist's last book \"The Da Vinci Code\". It follows the adventures of Harvard professor Robert Langdon and is set in the secret world of Freemasons in Washington D.C. \n",
      " \n",
      " \"The Da Vinci Code\" sold 80 million copies worldwide. It was made into a film starring Tom Hanks that grossed more than $758 million, according to tracking firm Box Office Mojo. \n",
      " \n",
      " Shares of Amazon closed up $7.15 to $90.70 on the Nasdaq. Amazon was upgraded to a \"Buy\" rating by Bank of America Merrill Lynch, which cited a resurgence in e-commerce that would benefit the Seattle-based company. \n",
      " \n",
      " Barnes & Noble closed up 14 cents to $22.04 and book retailer Borders Group Inc closed up 2 cents to $3.29, on the New York Stock Exchange. \n",
      " \n",
      " (Reporting by Alexandria Sage; editing by Carol Bishopric) \n",
      "DOC:   Bestselling author is also the most frequently given away to charity shops \n",
      " \n",
      " Dan Brown might be one of the world's bestselling authors but it turns out that readers aren't too keen on keeping his special blend of religious conspiracy and scholarly derring-do on their shelves once they've bought it. \n",
      " \n",
      " Brown, who has sold more than 81m copies of The Da Vinci Code worldwide, has been revealed as the most donated author to Oxfam's 700 high street shops. With just four books to his name – although his long-awaited fifth The Lost Symbol is published next month – Brown did well to see off competition from John Grisham, author of more than 20 and the second-most likely writer to be ditched in a charity shop by readers. \n",
      " \n",
      " But as secondhand bookshop shelves flood with battered editions of Angels and Demons and Digital Fortress, Brown can comfort himself with the fact that he's also Oxfam's second most bought author: there are, apparently, still readers out there who have yet to follow the adventures of the dapper symbologist Robert Langdon. There's no such consolation for Grisham, whose legal thrillers fail to make Oxfam's bestseller charts at all. \n",
      " \n",
      " \"There's no question that when you go into the back room of Oxfam shops there are many Dan Brown books,\" said Oxfam's director of trading David McCullough. \"But he's also very high on the bestseller list so there is a useful recycling exercise going on – it's not just people saying 'I've read The Da Vinci Code and now I must get rid of it'.\" \n",
      " \n",
      " Ian Rankin, whose dour, boozy detective John Rebus is no Robert Langdon, tops Oxfam's bestseller list, which the charity says is the first ever high-street secondhand bestseller chart. \"It's always good for an author to know that their books are popular,\" said the Scottish author, who will unveil a new policeman hero, the teetotal Malcolm Fox, next month. \"With Oxfam, it's also heartening to realise that each book donated and bought is helping such a worthwhile organisation.\" \n",
      " \n",
      " Stephenie Meyer, author of the Twilight series and instigator of myriad teenage crushes courtesy of her sparkly vampire hero Edward Cullen, is also sitting high in Oxfam's charts, nestling between Bernard Cornwell and Terry Pratchett. \n",
      " \n",
      " Margaret Atwood, meanwhile, winner of the Booker prize and author of a host of critically acclaimed works of fiction, scrapes into the list in eighth place, keeping unlikely company with thriller powerhouse James Patterson – currently producing at least eight books a year thanks to a horde of co-writers – and Jodi Picoult, never afraid to jerk a tear or pile on the plot twists. \n",
      " \n",
      " \"We just need to dispel the idea that we are sitting there in Oxfam with only first editions of literary gems – actually we've got shelves of really good fiction,\" said McCullough. \"Waterstone's might be more upset than secondhand booksellers,\" he added, referring to the recent slew of complaints from secondhand booksellers that the charity is stealing their business. \n",
      " \n",
      " Oxfam, Europe's biggest high-street retailer of secondhand books and the third-biggest bookseller in the UK, launched a drive for book donations in May ahead of its first national book festival, Bookfest, in July. Authors including Joanna Trollope, Philip Pullman and Jonathan Coe all lent a hand in shops across the country as part of the festival, and the drive saw book donations rise 40%, with sales up by more than 10%. \n",
      " \n",
      " Rare books and first editions have also been pouring into shops since May. Ten of the most sought-after editions have raised more than £4,500 for the charity between them. A first edition of Lord of the Rings sold for £800, a first edition of Watership Down brought in £500, Sylvia Plath's Ariel sold for £350, Ian Fleming's From Russia With Love for £300 and a second printing of Martin Chuzzlewit for £200. \n",
      " \n",
      " Oxfam, which has more than 130 specialist bookshops and stocks books in almost all of its 700 stores, sells £1.6m-worth of books a month – equivalent, it says, to 50,000 emergency shelters, 64,000 goats or safe water for 2.1 million people. \n",
      " \n",
      " The most donated authors to Oxfam shops so far this year: \n",
      " \n",
      " 1. Dan Brown \n",
      " \n",
      " 2. John Grisham \n",
      " \n",
      " 3. Ian Rankin \n",
      " \n",
      " 4. Danielle Steel \n",
      " \n",
      " 5. Helen Fielding \n",
      " \n",
      " 6. Stephen King \n",
      " \n",
      " 7. JK Rowling \n",
      " \n",
      " 8. Catherine Cookson \n",
      " \n",
      " 9. Patricia Cornwell \n",
      " \n",
      " 10. Mills & Boon \n",
      " \n",
      " The Oxfam shop bestseller list: \n",
      " \n",
      " 1. Ian Rankin \n",
      " \n",
      " 2. Dan Brown \n",
      " \n",
      " 3. Bernard Cornwell \n",
      " \n",
      " 4. Stephanie Meyer \n",
      " \n",
      " 5. Terry Pratchett \n",
      " \n",
      " 6. Khaled Hosseini \n",
      " \n",
      " 7. Helen Fielding \n",
      " \n",
      " 8. Margaret Atwood \n",
      " \n",
      " 9. James Patterson \n",
      " \n",
      " 10. Jodi Picoult \n",
      " \n",
      " The top 10 most valuable donated books since May: \n",
      " \n",
      " 1. JRR Tolkien, Lord of the Rings – first edition, sold for £800 \n",
      " \n",
      " 2. Don Giovanni sheet music – first edition, sold for £750 \n",
      " \n",
      " 3. Sowerby's Catalogue of Shells – sold for £600 \n",
      " \n",
      " 4. Richard Adams, Watership Down – first edition, sold for £500 \n",
      " \n",
      " 5. Handbook of Indian Dances - first edition with hand-blocked prints, sold for £500 \n",
      " \n",
      " 6. Richmal Crompton, Just William - first edition, sold for £440 \n",
      " \n",
      " 7. Sylvia Plath, Ariel – first edition, sold for £350 \n",
      " \n",
      " 8. Ian Fleming, From Russia With Love – first edition, sold for £300 \n",
      " \n",
      " 9. Charles Dickens, Martin Chuzzlewit – second print, sold for £200 \n",
      " \n",
      " 10. WE Johns, Biggles in Australia – first edition, sold for £150 \n",
      "DOC:   A charity shop is urging people to stop donating The Da Vinci Code after becoming overwhelmed with copies. \n",
      " \n",
      " The Oxfam shop in Swansea has been receiving an average of one copy of the Dan Brown novel a week for months, leaving them with little room for any other books. \n",
      " \n",
      " Staff who are struggling to sell copies of the book have put a note up in the store saying they would rather donors hand in their vinyl instead.\n"
     ]
    },
    {
     "name": "stderr",
     "output_type": "stream",
     "text": [
      "\n"
     ]
    }
   ],
   "source": [
    "from datasets import load_dataset\n",
    "dataset = load_dataset(\"multi_news\")\n",
    "ex = dataset[\"validation\"][0]\n",
    "docs = ex[\"document\"].split('|||||')\n",
    "print(len(docs))\n",
    "for d in docs:\n",
    "    print(\"DOC: \" ,d)"
   ]
  },
  {
   "cell_type": "code",
   "execution_count": 2,
   "metadata": {},
   "outputs": [
    {
     "data": {
      "text/plain": [
       "'– The Da Vinci Code has sold so many copies—that would be at least 80 million—that it\\'s bound to turn up in book donation piles. But at one charity shop in the UK, it\\'s been donated so heavily that the shop has posted a sign propped up on a tower of Da Vinci Code copies that reads: \"You could give us another Da Vinci Code... but we would rather have your vinyl!\" The manager of the Oxfam shop in Swansea tells the Telegraph that people are laughing and taking pictures of the sizable display: \"I would say that we get one copy of the book every day.\" He says people buy them \"occasionally,\" but with vinyl sales up 25% in the past year, they\\'d rather take records. Dan Brown\\'s book isn\\'t the only one that shops like Oxfam struggle to re-sell. Last year, Oxfam was hit with a large and steady supply of Fifty Shades of Grey, and it similarly begged donors: \"Please—no more.\" But Brown has a particular kind of staying power. The Da Vinci Code was published in 2003, and within six years Brown had booted John Grisham from the No. 1 slot on the list of writers whose books were most often donated to Oxfam\\'s 700 shops, reported the Guardian at the time. The Independent in 2012 reported Brown\\'s best-seller was the most-donated book for the fourth year running. (See why Dan Brown took heat from the Philippines.)'"
      ]
     },
     "execution_count": 2,
     "metadata": {},
     "output_type": "execute_result"
    }
   ],
   "source": [
    "ex[\"summary\"]"
   ]
  },
  {
   "cell_type": "code",
   "execution_count": 3,
   "metadata": {},
   "outputs": [],
   "source": [
    "import torch\n",
    "from transformers import AutoTokenizer, AutoModelForSequenceClassification\n",
    "from itertools import product, combinations\n",
    "\n",
    "from nltk import sent_tokenize\n",
    "\n",
    "all_sentences = []\n",
    "id2sent = {}\n",
    "sent2id = {}\n",
    "for i,d in enumerate(docs):\n",
    "    sentences = sent_tokenize(d)\n",
    "    for j,sent in enumerate(sentences):\n",
    "        id2sent[f\"{i}_{j}\"] = sent\n",
    "    all_sentences.append([x.strip() for x in sentences])\n",
    "    \n",
    "\n",
    "model_dir =  \"/afs/crc.nd.edu/group/dmsquare/vol2/myu2/ComparisonSentences/experiments/pairwise_cls/cross_enc_combined_cross0_1120/checkpoint-5802\"\n",
    "model = AutoModelForSequenceClassification.from_pretrained(\n",
    "    model_dir\n",
    ")\n",
    "tokenizer = AutoTokenizer.from_pretrained(model_dir)\n",
    "\n",
    "results = []\n",
    "for docid_1, docid_2 in combinations(range(len(docs)), 2):\n",
    "    for sentid_1, sentid_2 in product(range(len(all_sentences[docid_1])), range(len(all_sentences[docid_2]))):\n",
    "        t1 = id2sent[f\"{docid_1}_{sentid_1}\"]\n",
    "        t2 = id2sent[f\"{docid_2}_{sentid_2}\"]\n",
    "        inputs = tokenizer(\n",
    "            t1, t2,\n",
    "            return_tensors=\"pt\"\n",
    "        )\n",
    "        # print(inputs)\n",
    "        with torch.no_grad():\n",
    "            outputs = model(**inputs)\n",
    "\n",
    "            label = int(torch.argmax(outputs.logits))\n",
    "            # print(label)\n",
    "            obj = {\n",
    "                \"t1_id\": f\"{docid_1}_{sentid_1}\",\n",
    "                \"t2_id\": f\"{docid_2}_{sentid_2}\",\n",
    "                \"t1\": t1,\n",
    "                \"t2\": t2,\n",
    "                \"prediction\": label\n",
    "            }\n",
    "            results.append(obj)"
   ]
  },
  {
   "cell_type": "code",
   "execution_count": 4,
   "metadata": {},
   "outputs": [
    {
     "data": {
      "text/plain": [
       "1437"
      ]
     },
     "execution_count": 4,
     "metadata": {},
     "output_type": "execute_result"
    }
   ],
   "source": [
    "len(results)"
   ]
  },
  {
   "cell_type": "code",
   "execution_count": 7,
   "metadata": {},
   "outputs": [],
   "source": [
    "import json\n",
    "json.dump(results, open(\"multi-news_dev_0_results.json\", 'w'))"
   ]
  },
  {
   "cell_type": "code",
   "execution_count": 8,
   "metadata": {},
   "outputs": [
    {
     "name": "stdout",
     "output_type": "stream",
     "text": [
      "1_10 35 It follows the adventures of Harvard professor Robert Langdon and is set in the secret world of Freemasons in Washington D.C. \n",
      " \n",
      " \"The Da Vinci Code\" sold 80 million copies worldwide.\n",
      "1_1 34 REUTERS/Tim Wimborne \n",
      " \n",
      " SAN FRANCISCO The latest novel from \"Da Vinci Code\" author Dan Brown, \"The Lost Symbol,\" broke one-day sales records, its publisher and booksellers said.\n",
      "0_0 28 Whether a sign of a good read; or a comment on the 'pulp' nature of some genres of fiction, the Oxfam second-hand book charts have remained in The Da Vinci Code author's favour for the past four years.\n",
      "3_1 26 The Oxfam shop in Swansea has been receiving an average of one copy of the Dan Brown novel a week for months, leaving them with little room for any other books.\n",
      "0_3 21 Another cult crime writer responsible to heavy-weight hardbacks, Stieg Larsson, is Oxfam's 'most sold' author for the second time in a row.\n"
     ]
    }
   ],
   "source": [
    "from collections import Counter\n",
    "cnt = Counter()\n",
    "for r in results:\n",
    "    if r[\"prediction\"] == 1:\n",
    "        cnt[r[\"t1_id\"]] += 1\n",
    "        cnt[r[\"t2_id\"]] += 1\n",
    "for k,v in cnt.most_common(5):\n",
    "    print(k,v, id2sent[k])"
   ]
  },
  {
   "cell_type": "code",
   "execution_count": 11,
   "metadata": {},
   "outputs": [
    {
     "name": "stdout",
     "output_type": "stream",
     "text": [
      "{'rouge1': Score(precision=0.5019762845849802, recall=0.4471830985915493, fmeasure=0.47299813780260713), 'rouge2': Score(precision=0.14682539682539683, recall=0.13074204946996468, fmeasure=0.13831775700934582), 'rougeL': Score(precision=0.23715415019762845, recall=0.2112676056338028, fmeasure=0.22346368715083795)}\n"
     ]
    }
   ],
   "source": [
    "from rouge_score import rouge_scorer\n",
    "pred = ' '.join([id2sent[k] for k,v in cnt.most_common(10)])\n",
    "ref = ex[\"summary\"].lower()\n",
    "scorer = rouge_scorer.RougeScorer(['rouge1', 'rouge2', 'rougeL'], use_stemmer=True)\n",
    "scores = scorer.score(pred,\n",
    "                      ref)\n",
    "print(scores)"
   ]
  },
  {
   "cell_type": "markdown",
   "metadata": {},
   "source": [
    "# Construct dataset for pairwise comparison"
   ]
  },
  {
   "cell_type": "code",
   "execution_count": 1,
   "metadata": {},
   "outputs": [
    {
     "name": "stderr",
     "output_type": "stream",
     "text": [
      "/afs/crc.nd.edu/user/m/myu2/anaconda2/envs/bert/lib/python3.7/site-packages/tqdm/auto.py:22: TqdmWarning: IProgress not found. Please update jupyter and ipywidgets. See https://ipywidgets.readthedocs.io/en/stable/user_install.html\n",
      "  from .autonotebook import tqdm as notebook_tqdm\n",
      "Using custom data configuration default\n",
      "Reusing dataset multi_news (/afs/crc.nd.edu/user/m/myu2/.cache/huggingface/datasets/multi_news/default/1.0.0/2f1f69a2bedc8ad1c5d8ae5148e4755ee7095f465c1c01ae8f85454342065a72)\n",
      "100%|██████████| 3/3 [00:00<00:00,  7.21it/s]\n"
     ]
    },
    {
     "name": "stdout",
     "output_type": "stream",
     "text": [
      "data size - train/dev/test:  44972 5622 5622\n",
      "cnt sentences: 17396130\n"
     ]
    }
   ],
   "source": [
    "from datasets import load_dataset\n",
    "from itertools import product, combinations\n",
    "from nltk import sent_tokenize\n",
    "import json\n",
    "dataset = load_dataset(\"multi_news\")\n",
    "\n",
    "print(\"data size - train/dev/test: \", len(dataset[\"train\"]), len(dataset[\"validation\"]), len(dataset[\"test\"]))\n",
    "\n",
    "\n",
    "split = \"test\"\n",
    "fw = open(f\"multi-news_pairwise/data_{split}.json\", 'w')\n",
    "cnt_sentence = 0\n",
    "for exp_id, ex in enumerate(dataset[split]):\n",
    "    doc_sentences = [] # list of list of sentences\n",
    "    id2sent = {}\n",
    "    docs = ex[\"document\"].split('|||||')\n",
    "    for i,d in enumerate(docs):\n",
    "        sentences = sent_tokenize(d)\n",
    "        for j,sent in enumerate(sentences):\n",
    "            id2sent[f\"{i}_{j}\"] = sent\n",
    "        doc_sentences.append([x.strip() for x in sentences])\n",
    "\n",
    "    \n",
    "    for docid_1, docid_2 in combinations(range(len(docs)), 2):\n",
    "        for sentid_1, sentid_2 in product(range(len(doc_sentences[docid_1])), range(len(doc_sentences[docid_2]))):\n",
    "            t1 = id2sent[f\"{docid_1}_{sentid_1}\"]\n",
    "            t2 = id2sent[f\"{docid_2}_{sentid_2}\"]\n",
    "            if t1.count(' ') < 2 or t2.count(' ') < 2:\n",
    "                continue # don't need \"too short sentences\n",
    "            obj = {\n",
    "                \"id\": f\"{exp_id}|{docid_1}_{sentid_1}|{docid_2}_{sentid_2}\",\n",
    "                \"t1\": t1,\n",
    "                \"t2\": t2,\n",
    "                \"label\": 0 # this is a fake label\n",
    "            }\n",
    "            # data.append(obj)\n",
    "            fw.write(json.dumps(obj) + '\\n')\n",
    "            cnt_sentence += 1\n",
    "    \n",
    "fw.close()\n",
    "print(\"cnt sentences:\", cnt_sentence)\n",
    "\n"
   ]
  },
  {
   "cell_type": "code",
   "execution_count": null,
   "metadata": {},
   "outputs": [],
   "source": []
  }
 ],
 "metadata": {
  "kernelspec": {
   "display_name": "Python 3.7.11 ('bert')",
   "language": "python",
   "name": "python3"
  },
  "language_info": {
   "codemirror_mode": {
    "name": "ipython",
    "version": 3
   },
   "file_extension": ".py",
   "mimetype": "text/x-python",
   "name": "python",
   "nbconvert_exporter": "python",
   "pygments_lexer": "ipython3",
   "version": "3.7.11"
  },
  "orig_nbformat": 4,
  "vscode": {
   "interpreter": {
    "hash": "038ac43ff01c31cd641835814f979bd9daf9dcda5104326cfb2cc592d72d42d9"
   }
  }
 },
 "nbformat": 4,
 "nbformat_minor": 2
}
